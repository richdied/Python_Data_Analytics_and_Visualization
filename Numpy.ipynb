{
  "nbformat": 4,
  "nbformat_minor": 0,
  "metadata": {
    "colab": {
      "name": "Numpy.ipynb",
      "provenance": [],
      "collapsed_sections": [],
      "authorship_tag": "ABX9TyOgkmL+3BH0bez4tSLzHKfT",
      "include_colab_link": true
    },
    "kernelspec": {
      "name": "python3",
      "display_name": "Python 3"
    },
    "language_info": {
      "name": "python"
    }
  },
  "cells": [
    {
      "cell_type": "markdown",
      "metadata": {
        "id": "view-in-github",
        "colab_type": "text"
      },
      "source": [
        "<a href=\"https://colab.research.google.com/github/richdied/Python_Data_Analytics_and_Visualization/blob/main/Numpy.ipynb\" target=\"_parent\"><img src=\"https://colab.research.google.com/assets/colab-badge.svg\" alt=\"Open In Colab\"/></a>"
      ]
    },
    {
      "cell_type": "code",
      "execution_count": null,
      "metadata": {
        "id": "XUDppwxV93jf"
      },
      "outputs": [],
      "source": [
        "import numpy as np"
      ]
    },
    {
      "cell_type": "code",
      "source": [
        "a0 = np.array(9)"
      ],
      "metadata": {
        "id": "ai2CewIh-eEG"
      },
      "execution_count": null,
      "outputs": []
    },
    {
      "cell_type": "code",
      "source": [
        "print(a0)"
      ],
      "metadata": {
        "id": "Y7VhR7k8_a00",
        "outputId": "5e5019fb-d9d5-49b5-dafe-58c7c2bb228c",
        "colab": {
          "base_uri": "https://localhost:8080/"
        }
      },
      "execution_count": null,
      "outputs": [
        {
          "output_type": "stream",
          "name": "stdout",
          "text": [
            "9\n"
          ]
        }
      ]
    },
    {
      "cell_type": "code",
      "source": [
        "a1 = np.array([1,3,5,7,9])"
      ],
      "metadata": {
        "id": "jxay0g9s_d3b"
      },
      "execution_count": null,
      "outputs": []
    },
    {
      "cell_type": "code",
      "source": [
        "print(a1)"
      ],
      "metadata": {
        "id": "xr5JlEBD_hrj",
        "outputId": "614a717d-0094-494d-93e0-33bfc887bb84",
        "colab": {
          "base_uri": "https://localhost:8080/"
        }
      },
      "execution_count": null,
      "outputs": [
        {
          "output_type": "stream",
          "name": "stdout",
          "text": [
            "[1 3 5 7 9]\n"
          ]
        }
      ]
    },
    {
      "cell_type": "code",
      "source": [
        "a2 = np.array([[1, 2, 3],\n",
        "               [4, 5, 6],\n",
        "               [7, 8, 9]])"
      ],
      "metadata": {
        "id": "DDx-3SMW_i8x"
      },
      "execution_count": null,
      "outputs": []
    },
    {
      "cell_type": "code",
      "source": [
        "print(a2)"
      ],
      "metadata": {
        "id": "U_b6eBtg_oF7",
        "outputId": "8709d282-fd56-4f96-ddce-1968f79924ed",
        "colab": {
          "base_uri": "https://localhost:8080/"
        }
      },
      "execution_count": null,
      "outputs": [
        {
          "output_type": "stream",
          "name": "stdout",
          "text": [
            "[[1 2 3]\n",
            " [4 5 6]\n",
            " [7 8 9]]\n"
          ]
        }
      ]
    },
    {
      "cell_type": "code",
      "source": [
        "a3 = np.array([[[1, 2],\n",
        "                [3, 4]],\n",
        "               [[5, 6],\n",
        "                [7, 8]],\n",
        "               [[9, 10],\n",
        "                [11, 12]]])"
      ],
      "metadata": {
        "id": "DxHuZCvV_vvb"
      },
      "execution_count": null,
      "outputs": []
    },
    {
      "cell_type": "code",
      "source": [
        "print(a3)"
      ],
      "metadata": {
        "id": "YEAgo9JBACVx",
        "outputId": "79818237-d2f4-4f4d-f7d7-e7fa5f5b0ce2",
        "colab": {
          "base_uri": "https://localhost:8080/"
        }
      },
      "execution_count": null,
      "outputs": [
        {
          "output_type": "stream",
          "name": "stdout",
          "text": [
            "[[[ 1  2]\n",
            "  [ 3  4]]\n",
            "\n",
            " [[ 5  6]\n",
            "  [ 7  8]]\n",
            "\n",
            " [[ 9 10]\n",
            "  [11 12]]]\n"
          ]
        }
      ]
    },
    {
      "cell_type": "code",
      "source": [
        "AR = np.array([1,2,3,4,5,6,7,8,9,10,11,12])"
      ],
      "metadata": {
        "id": "OxOgH5weAVVr"
      },
      "execution_count": null,
      "outputs": []
    },
    {
      "cell_type": "code",
      "source": [
        "print(AR)"
      ],
      "metadata": {
        "id": "pxlVvLpuAbNe",
        "outputId": "f31ccfc6-6b44-43d0-e4a4-0fd64a866096",
        "colab": {
          "base_uri": "https://localhost:8080/"
        }
      },
      "execution_count": null,
      "outputs": [
        {
          "output_type": "stream",
          "name": "stdout",
          "text": [
            "[ 1  2  3  4  5  6  7  8  9 10 11 12]\n"
          ]
        }
      ]
    },
    {
      "cell_type": "code",
      "source": [
        "AR.shape"
      ],
      "metadata": {
        "id": "ywqM2HmmAcC8",
        "outputId": "f5cc1986-2ce6-4bc6-e316-1309db6c3208",
        "colab": {
          "base_uri": "https://localhost:8080/"
        }
      },
      "execution_count": null,
      "outputs": [
        {
          "output_type": "execute_result",
          "data": {
            "text/plain": [
              "(12,)"
            ]
          },
          "metadata": {},
          "execution_count": 21
        }
      ]
    },
    {
      "cell_type": "code",
      "source": [
        "AR.size"
      ],
      "metadata": {
        "id": "6fPh8cg5Ad_V",
        "outputId": "0312bf78-3b6f-4d80-f7e7-f7de31c860b0",
        "colab": {
          "base_uri": "https://localhost:8080/"
        }
      },
      "execution_count": null,
      "outputs": [
        {
          "output_type": "execute_result",
          "data": {
            "text/plain": [
              "12"
            ]
          },
          "metadata": {},
          "execution_count": 22
        }
      ]
    },
    {
      "cell_type": "code",
      "source": [
        "AR.ndim"
      ],
      "metadata": {
        "id": "LW3TCP_7Af19",
        "outputId": "dd63f501-e5fa-4795-ef89-396fdf0c5678",
        "colab": {
          "base_uri": "https://localhost:8080/"
        }
      },
      "execution_count": null,
      "outputs": [
        {
          "output_type": "execute_result",
          "data": {
            "text/plain": [
              "1"
            ]
          },
          "metadata": {},
          "execution_count": 23
        }
      ]
    },
    {
      "cell_type": "code",
      "source": [
        "AR2 = AR.reshape(3,4)"
      ],
      "metadata": {
        "id": "b4mQ1J7SAhvl"
      },
      "execution_count": null,
      "outputs": []
    },
    {
      "cell_type": "code",
      "source": [
        "print(AR2)"
      ],
      "metadata": {
        "id": "bZ4sLkihAo5-",
        "outputId": "7c158638-c28d-4b6e-ac0b-e0ef6df7f578",
        "colab": {
          "base_uri": "https://localhost:8080/"
        }
      },
      "execution_count": null,
      "outputs": [
        {
          "output_type": "stream",
          "name": "stdout",
          "text": [
            "[[ 1  2  3  4]\n",
            " [ 5  6  7  8]\n",
            " [ 9 10 11 12]]\n"
          ]
        }
      ]
    },
    {
      "cell_type": "code",
      "source": [
        "AR2.shape"
      ],
      "metadata": {
        "id": "YUFbjNhxAqBP",
        "outputId": "c2892916-ab07-47e7-b4ab-d6b9952e0148",
        "colab": {
          "base_uri": "https://localhost:8080/"
        }
      },
      "execution_count": null,
      "outputs": [
        {
          "output_type": "execute_result",
          "data": {
            "text/plain": [
              "(3, 4)"
            ]
          },
          "metadata": {},
          "execution_count": 26
        }
      ]
    },
    {
      "cell_type": "code",
      "source": [
        "AR2.size"
      ],
      "metadata": {
        "id": "rJTMt0yuAuWV",
        "outputId": "f9fa7562-738d-4e1d-8e4e-2ac9b90d7e59",
        "colab": {
          "base_uri": "https://localhost:8080/"
        }
      },
      "execution_count": null,
      "outputs": [
        {
          "output_type": "execute_result",
          "data": {
            "text/plain": [
              "12"
            ]
          },
          "metadata": {},
          "execution_count": 27
        }
      ]
    },
    {
      "cell_type": "code",
      "source": [
        "AR2.ndim"
      ],
      "metadata": {
        "id": "sSJZ3ib5AwdI",
        "outputId": "6aef4883-8aff-4ccb-ad31-91b7c83d32bb",
        "colab": {
          "base_uri": "https://localhost:8080/"
        }
      },
      "execution_count": null,
      "outputs": [
        {
          "output_type": "execute_result",
          "data": {
            "text/plain": [
              "2"
            ]
          },
          "metadata": {},
          "execution_count": 28
        }
      ]
    },
    {
      "cell_type": "code",
      "source": [
        "AR3 = AR.reshape(3,2,2)"
      ],
      "metadata": {
        "id": "zPqLcD_QAzYJ"
      },
      "execution_count": null,
      "outputs": []
    },
    {
      "cell_type": "code",
      "source": [
        "print(AR3)"
      ],
      "metadata": {
        "id": "3XqICoMqA3Bn",
        "outputId": "db0ff862-54e6-4312-c2f2-c8e14046624e",
        "colab": {
          "base_uri": "https://localhost:8080/"
        }
      },
      "execution_count": null,
      "outputs": [
        {
          "output_type": "stream",
          "name": "stdout",
          "text": [
            "[[[ 1  2]\n",
            "  [ 3  4]]\n",
            "\n",
            " [[ 5  6]\n",
            "  [ 7  8]]\n",
            "\n",
            " [[ 9 10]\n",
            "  [11 12]]]\n"
          ]
        }
      ]
    },
    {
      "cell_type": "code",
      "source": [
        "AR3.shape"
      ],
      "metadata": {
        "id": "i3yJr3osA4ZA",
        "outputId": "4eec5562-f0c0-4696-f0a7-7ff68158cf88",
        "colab": {
          "base_uri": "https://localhost:8080/"
        }
      },
      "execution_count": null,
      "outputs": [
        {
          "output_type": "execute_result",
          "data": {
            "text/plain": [
              "(3, 2, 2)"
            ]
          },
          "metadata": {},
          "execution_count": 31
        }
      ]
    },
    {
      "cell_type": "code",
      "source": [
        "AR3.size"
      ],
      "metadata": {
        "id": "OjxBOehKA6BA",
        "outputId": "4830b0d8-cb44-4ae2-e070-e4540ec09f71",
        "colab": {
          "base_uri": "https://localhost:8080/"
        }
      },
      "execution_count": null,
      "outputs": [
        {
          "output_type": "execute_result",
          "data": {
            "text/plain": [
              "12"
            ]
          },
          "metadata": {},
          "execution_count": 32
        }
      ]
    },
    {
      "cell_type": "code",
      "source": [
        "AR3.ndim"
      ],
      "metadata": {
        "id": "jAtvnIRXA7mf",
        "outputId": "8a4fe2fe-6b35-412f-ee3b-c0b77711caa6",
        "colab": {
          "base_uri": "https://localhost:8080/"
        }
      },
      "execution_count": null,
      "outputs": [
        {
          "output_type": "execute_result",
          "data": {
            "text/plain": [
              "3"
            ]
          },
          "metadata": {},
          "execution_count": 33
        }
      ]
    },
    {
      "cell_type": "code",
      "source": [
        "AR.reshape(-1,1)"
      ],
      "metadata": {
        "id": "hOXohHiiA9AA",
        "outputId": "455ed274-a21a-4c0a-f379-033257054816",
        "colab": {
          "base_uri": "https://localhost:8080/"
        }
      },
      "execution_count": null,
      "outputs": [
        {
          "output_type": "execute_result",
          "data": {
            "text/plain": [
              "array([[ 1],\n",
              "       [ 2],\n",
              "       [ 3],\n",
              "       [ 4],\n",
              "       [ 5],\n",
              "       [ 6],\n",
              "       [ 7],\n",
              "       [ 8],\n",
              "       [ 9],\n",
              "       [10],\n",
              "       [11],\n",
              "       [12]])"
            ]
          },
          "metadata": {},
          "execution_count": 35
        }
      ]
    },
    {
      "cell_type": "code",
      "source": [
        "AR2.reshape(1,-1)"
      ],
      "metadata": {
        "id": "Szn4CleAA-UQ",
        "outputId": "33495241-0468-4ee0-8f06-b6f2ed72c393",
        "colab": {
          "base_uri": "https://localhost:8080/"
        }
      },
      "execution_count": null,
      "outputs": [
        {
          "output_type": "execute_result",
          "data": {
            "text/plain": [
              "array([[ 1,  2,  3,  4,  5,  6,  7,  8,  9, 10, 11, 12]])"
            ]
          },
          "metadata": {},
          "execution_count": 36
        }
      ]
    },
    {
      "cell_type": "code",
      "source": [
        "AR3.reshape(-1)"
      ],
      "metadata": {
        "id": "TOO19OFpBD7B",
        "outputId": "a5faa6d4-edfa-4571-947a-7de54f364593",
        "colab": {
          "base_uri": "https://localhost:8080/"
        }
      },
      "execution_count": null,
      "outputs": [
        {
          "output_type": "execute_result",
          "data": {
            "text/plain": [
              "array([ 1,  2,  3,  4,  5,  6,  7,  8,  9, 10, 11, 12])"
            ]
          },
          "metadata": {},
          "execution_count": 37
        }
      ]
    },
    {
      "cell_type": "code",
      "source": [
        "AR3.flatten()"
      ],
      "metadata": {
        "id": "G8LN7L3bBIH6",
        "outputId": "59288a6c-68ba-4960-adb0-a20a6f5d2fa5",
        "colab": {
          "base_uri": "https://localhost:8080/"
        }
      },
      "execution_count": null,
      "outputs": [
        {
          "output_type": "execute_result",
          "data": {
            "text/plain": [
              "array([ 1,  2,  3,  4,  5,  6,  7,  8,  9, 10, 11, 12])"
            ]
          },
          "metadata": {},
          "execution_count": 38
        }
      ]
    },
    {
      "cell_type": "code",
      "source": [
        "a3 + 100"
      ],
      "metadata": {
        "id": "DoupBYhtBKdZ",
        "outputId": "42e7a2f2-4057-426d-820a-a154ddb35c55",
        "colab": {
          "base_uri": "https://localhost:8080/"
        }
      },
      "execution_count": null,
      "outputs": [
        {
          "output_type": "execute_result",
          "data": {
            "text/plain": [
              "array([[[101, 102],\n",
              "        [103, 104]],\n",
              "\n",
              "       [[105, 106],\n",
              "        [107, 108]],\n",
              "\n",
              "       [[109, 110],\n",
              "        [111, 112]]])"
            ]
          },
          "metadata": {},
          "execution_count": 39
        }
      ]
    },
    {
      "cell_type": "code",
      "source": [
        "a1 = np.array([1, 3, 5, 7, 9])\n",
        "a2 = np.array([10, 30, 50, 70, 90])\n",
        "a3 = np.array([[1, 2, 3],\n",
        "               [4, 5, 6],\n",
        "               [7, 8, 9]])\n"
      ],
      "metadata": {
        "id": "U48VvO5XxNaC"
      },
      "execution_count": null,
      "outputs": []
    },
    {
      "cell_type": "code",
      "source": [
        "a3 + [[100],\n",
        "      [200],\n",
        "      [300]]\n"
      ],
      "metadata": {
        "id": "QNTZc5JfxWZV",
        "outputId": "6c5f4483-dbf2-411f-e97c-cf3173fdde42",
        "colab": {
          "base_uri": "https://localhost:8080/"
        }
      },
      "execution_count": null,
      "outputs": [
        {
          "output_type": "execute_result",
          "data": {
            "text/plain": [
              "array([[101, 102, 103],\n",
              "       [204, 205, 206],\n",
              "       [307, 308, 309]])"
            ]
          },
          "metadata": {},
          "execution_count": 46
        }
      ]
    },
    {
      "cell_type": "code",
      "source": [
        "a3 + [100, 200, 300]"
      ],
      "metadata": {
        "id": "oBkkR_ZlxcB1",
        "outputId": "47db0016-283d-4c50-cb52-ea3399dace2f",
        "colab": {
          "base_uri": "https://localhost:8080/"
        }
      },
      "execution_count": null,
      "outputs": [
        {
          "output_type": "execute_result",
          "data": {
            "text/plain": [
              "array([[101, 202, 303],\n",
              "       [104, 205, 306],\n",
              "       [107, 208, 309]])"
            ]
          },
          "metadata": {},
          "execution_count": 47
        }
      ]
    },
    {
      "cell_type": "code",
      "source": [
        "a3.min(axis = 0)"
      ],
      "metadata": {
        "id": "i6GCYJhXxdO8",
        "outputId": "f1285934-d17c-4544-d2a8-93c23ac9742e",
        "colab": {
          "base_uri": "https://localhost:8080/"
        }
      },
      "execution_count": null,
      "outputs": [
        {
          "output_type": "execute_result",
          "data": {
            "text/plain": [
              "array([1, 2, 3])"
            ]
          },
          "metadata": {},
          "execution_count": 49
        }
      ]
    },
    {
      "cell_type": "code",
      "source": [
        "a3.min(axis = 1)"
      ],
      "metadata": {
        "id": "MKy85TwqyYJj",
        "outputId": "9464c623-7682-45df-c881-27b16550e126",
        "colab": {
          "base_uri": "https://localhost:8080/"
        }
      },
      "execution_count": null,
      "outputs": [
        {
          "output_type": "execute_result",
          "data": {
            "text/plain": [
              "array([1, 4, 7])"
            ]
          },
          "metadata": {},
          "execution_count": 50
        }
      ]
    },
    {
      "cell_type": "code",
      "source": [
        "a3.min(axis = 1, keepdims = True)"
      ],
      "metadata": {
        "id": "qVc1gL2CyZTD",
        "outputId": "4b1c1ed6-b2f4-49a7-cdea-550cb4b31375",
        "colab": {
          "base_uri": "https://localhost:8080/"
        }
      },
      "execution_count": null,
      "outputs": [
        {
          "output_type": "execute_result",
          "data": {
            "text/plain": [
              "array([[1],\n",
              "       [4],\n",
              "       [7]])"
            ]
          },
          "metadata": {},
          "execution_count": 51
        }
      ]
    },
    {
      "cell_type": "code",
      "source": [
        "a3.max(axis = 0)"
      ],
      "metadata": {
        "id": "_Rr74ZXvyaEi",
        "outputId": "19ef37c6-2ce7-4bae-963d-f3c767d89844",
        "colab": {
          "base_uri": "https://localhost:8080/"
        }
      },
      "execution_count": null,
      "outputs": [
        {
          "output_type": "execute_result",
          "data": {
            "text/plain": [
              "array([7, 8, 9])"
            ]
          },
          "metadata": {},
          "execution_count": 52
        }
      ]
    },
    {
      "cell_type": "code",
      "source": [
        "a3.max(axis = 1)"
      ],
      "metadata": {
        "id": "2Z2XjvWYybf6",
        "outputId": "e5a4bb39-0351-414b-824e-0cbeed3ff624",
        "colab": {
          "base_uri": "https://localhost:8080/"
        }
      },
      "execution_count": null,
      "outputs": [
        {
          "output_type": "execute_result",
          "data": {
            "text/plain": [
              "array([3, 6, 9])"
            ]
          },
          "metadata": {},
          "execution_count": 53
        }
      ]
    },
    {
      "cell_type": "code",
      "source": [
        "a3.max(axis = 1, keepdims = True)"
      ],
      "metadata": {
        "id": "MvQDEsKsycjK",
        "outputId": "4c0f4178-27a5-49de-af7e-13216b04308f",
        "colab": {
          "base_uri": "https://localhost:8080/"
        }
      },
      "execution_count": null,
      "outputs": [
        {
          "output_type": "execute_result",
          "data": {
            "text/plain": [
              "array([[3],\n",
              "       [6],\n",
              "       [9]])"
            ]
          },
          "metadata": {},
          "execution_count": 54
        }
      ]
    },
    {
      "cell_type": "code",
      "source": [
        "A1 = np.array([2, 4, 6, 8]).reshape(2, 2)"
      ],
      "metadata": {
        "id": "ieR0Oaysyeer"
      },
      "execution_count": null,
      "outputs": []
    },
    {
      "cell_type": "code",
      "source": [
        "print(A1)"
      ],
      "metadata": {
        "id": "QEJrJ2I3yhdU",
        "outputId": "3c9d1731-f0f2-4d34-cd14-af7b1f1f9f9a",
        "colab": {
          "base_uri": "https://localhost:8080/"
        }
      },
      "execution_count": null,
      "outputs": [
        {
          "output_type": "stream",
          "name": "stdout",
          "text": [
            "[[2 4]\n",
            " [6 8]]\n"
          ]
        }
      ]
    },
    {
      "cell_type": "code",
      "source": [
        "A2 = np.array([3, 5, 7, 9]).reshape(2, 2)"
      ],
      "metadata": {
        "id": "vxSszx5hyjWa"
      },
      "execution_count": null,
      "outputs": []
    },
    {
      "cell_type": "code",
      "source": [
        "print(A2)"
      ],
      "metadata": {
        "id": "XAvqiZEBykHx",
        "outputId": "7193f5e8-ec94-4cb2-8ad2-b5ca3f02c603",
        "colab": {
          "base_uri": "https://localhost:8080/"
        }
      },
      "execution_count": null,
      "outputs": [
        {
          "output_type": "stream",
          "name": "stdout",
          "text": [
            "[[3 5]\n",
            " [7 9]]\n"
          ]
        }
      ]
    },
    {
      "cell_type": "code",
      "source": [
        "A1.dot(A2)"
      ],
      "metadata": {
        "id": "l6_94v09ylDi",
        "outputId": "29f3aa24-e113-471c-91a0-a4d239118a61",
        "colab": {
          "base_uri": "https://localhost:8080/"
        }
      },
      "execution_count": null,
      "outputs": [
        {
          "output_type": "execute_result",
          "data": {
            "text/plain": [
              "array([[ 34,  46],\n",
              "       [ 74, 102]])"
            ]
          },
          "metadata": {},
          "execution_count": 59
        }
      ]
    },
    {
      "cell_type": "code",
      "source": [
        "np.dot(A2, A1)"
      ],
      "metadata": {
        "id": "M3eqa3hLymEi",
        "outputId": "7597e039-2939-4bb3-8b1a-8242619386f1",
        "colab": {
          "base_uri": "https://localhost:8080/"
        }
      },
      "execution_count": null,
      "outputs": [
        {
          "output_type": "execute_result",
          "data": {
            "text/plain": [
              "array([[ 36,  52],\n",
              "       [ 68, 100]])"
            ]
          },
          "metadata": {},
          "execution_count": 60
        }
      ]
    },
    {
      "cell_type": "code",
      "source": [
        "A1 * A2"
      ],
      "metadata": {
        "id": "v9qFaK7Yym9b",
        "outputId": "36ce02bc-73e8-4a05-a461-d30f83de64f8",
        "colab": {
          "base_uri": "https://localhost:8080/"
        }
      },
      "execution_count": null,
      "outputs": [
        {
          "output_type": "execute_result",
          "data": {
            "text/plain": [
              "array([[ 6, 20],\n",
              "       [42, 72]])"
            ]
          },
          "metadata": {},
          "execution_count": 62
        }
      ]
    },
    {
      "cell_type": "code",
      "source": [
        "np.transpose(A1)\n"
      ],
      "metadata": {
        "id": "N9Er3RS1yn2K",
        "outputId": "f38ad7fd-043f-4be1-afd8-ceb843074084",
        "colab": {
          "base_uri": "https://localhost:8080/"
        }
      },
      "execution_count": null,
      "outputs": [
        {
          "output_type": "execute_result",
          "data": {
            "text/plain": [
              "array([[2, 6],\n",
              "       [4, 8]])"
            ]
          },
          "metadata": {},
          "execution_count": 63
        }
      ]
    },
    {
      "cell_type": "code",
      "source": [
        "A2.transpose()"
      ],
      "metadata": {
        "id": "LVZqkm05yp4a",
        "outputId": "fbd3f4b2-5d0f-43b2-b0e3-75cb568862af",
        "colab": {
          "base_uri": "https://localhost:8080/"
        }
      },
      "execution_count": null,
      "outputs": [
        {
          "output_type": "execute_result",
          "data": {
            "text/plain": [
              "array([[3, 7],\n",
              "       [5, 9]])"
            ]
          },
          "metadata": {},
          "execution_count": 64
        }
      ]
    },
    {
      "cell_type": "code",
      "source": [
        "A2.T"
      ],
      "metadata": {
        "id": "_gyo0FYYyqmi",
        "outputId": "efa7ea6b-2857-4171-9526-07204e3bb4d1",
        "colab": {
          "base_uri": "https://localhost:8080/"
        }
      },
      "execution_count": null,
      "outputs": [
        {
          "output_type": "execute_result",
          "data": {
            "text/plain": [
              "array([[3, 7],\n",
              "       [5, 9]])"
            ]
          },
          "metadata": {},
          "execution_count": 65
        }
      ]
    },
    {
      "cell_type": "code",
      "source": [
        ""
      ],
      "metadata": {
        "id": "RjxucXC6yrNx"
      },
      "execution_count": null,
      "outputs": []
    }
  ]
}