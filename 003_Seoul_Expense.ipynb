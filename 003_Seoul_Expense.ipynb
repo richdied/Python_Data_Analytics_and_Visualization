{
  "nbformat": 4,
  "nbformat_minor": 0,
  "metadata": {
    "colab": {
      "name": "003_Seoul_Expense.ipynb",
      "provenance": [],
      "collapsed_sections": [],
      "include_colab_link": true
    },
    "kernelspec": {
      "name": "python3",
      "display_name": "Python 3"
    }
  },
  "cells": [
    {
      "cell_type": "markdown",
      "metadata": {
        "id": "view-in-github",
        "colab_type": "text"
      },
      "source": [
        "<a href=\"https://colab.research.google.com/github/richdied/Python_Data_Analytics_and_Visualization/blob/main/003_Seoul_Expense.ipynb\" target=\"_parent\"><img src=\"https://colab.research.google.com/assets/colab-badge.svg\" alt=\"Open In Colab\"/></a>"
      ]
    },
    {
      "cell_type": "markdown",
      "metadata": {
        "id": "JzyWan47ycgI"
      },
      "source": [
        "# 서울시 업무추진비 분석\n",
        "\n",
        "\n",
        "## https://opengov.seoul.go.kr\n",
        "## https://github.com/seoul-opengov/opengov"
      ]
    },
    {
      "cell_type": "markdown",
      "metadata": {
        "id": "l2fQt87xmtxe"
      },
      "source": [
        "# O. 한글폰트 설치 후 진행"
      ]
    },
    {
      "cell_type": "markdown",
      "metadata": {
        "id": "C68GD71Jm524"
      },
      "source": [
        "> ## 1) 한글 폰트 설치"
      ]
    },
    {
      "cell_type": "code",
      "source": [
        "import matplotlib.font_manager as fm\n",
        "\n",
        "# Linux\n",
        "!apt-get -qq -y install fonts-nanum > /dev/null\n",
        "\n",
        "# Colab\n",
        "fontpath = '/usr/share/fonts/truetype/nanum/NanumBarunGothic.ttf'\n",
        "font = fm.FontProperties(fname = fontpath, size = 10)\n",
        "fm._rebuild()"
      ],
      "metadata": {
        "id": "uvR2Ud5yH8nM"
      },
      "execution_count": null,
      "outputs": []
    },
    {
      "cell_type": "markdown",
      "source": [
        "> ## 2) <font color = 'red'>설치 후 '**런타임 다시 시작**'</font>\n",
        "\n",
        "* 런타임 강제 종료 후 다시 시작"
      ],
      "metadata": {
        "id": "hg5568KEJFqe"
      }
    },
    {
      "cell_type": "code",
      "source": [
        "import os\n",
        "\n",
        "os.kill(os.getpid(), 9)"
      ],
      "metadata": {
        "id": "tOEwoWIRIFEd"
      },
      "execution_count": null,
      "outputs": []
    },
    {
      "cell_type": "markdown",
      "metadata": {
        "id": "CuIU7YN8nC_n"
      },
      "source": [
        "> ## 3) 한글 폰트 설정"
      ]
    },
    {
      "cell_type": "code",
      "source": [
        "import matplotlib.pyplot as plt\n",
        "import matplotlib as mpl\n",
        "import matplotlib.font_manager as fm\n",
        "\n",
        "mpl.rcParams['axes.unicode_minus'] = False\n",
        "\t\n",
        "path = '/usr/share/fonts/truetype/nanum/NanumGothicBold.ttf'\n",
        "font_name = fm.FontProperties(fname = path, size = 10).get_name()\n",
        "plt.rc('font', family = font_name)\n",
        "fm._rebuild()"
      ],
      "metadata": {
        "id": "Erl30qD_IK_g"
      },
      "execution_count": null,
      "outputs": []
    },
    {
      "cell_type": "markdown",
      "metadata": {
        "id": "V8NZLl5G12Eh"
      },
      "source": [
        "# I. 데이터 수집"
      ]
    },
    {
      "cell_type": "code",
      "metadata": {
        "id": "RbPgODpVzdHI"
      },
      "source": [
        "import warnings\n",
        "warnings.filterwarnings('ignore')"
      ],
      "execution_count": null,
      "outputs": []
    },
    {
      "cell_type": "markdown",
      "metadata": {
        "id": "bfOjVrPOjWSK"
      },
      "source": [
        "> ## 1) 파일 다운로드 함수 정의\n",
        "\n",
        "* 01. github 경로 지정\n",
        "* 02. 다운로드 폴더 지정\n",
        "* 03. 다운로드 폴더 확인 또는 생성\n",
        "* 04. 1월 ~ 12월 업무추진비 파일 다운로드"
      ]
    },
    {
      "cell_type": "code",
      "metadata": {
        "id": "khHsf1UH0bKC"
      },
      "source": [
        "import requests\n",
        "import os\n",
        "import pathlib\n",
        "\n",
        "def get_seoul_expense_list(extension, year, data_folder): \n",
        "\n",
        "    # 01\n",
        "    expense_list_year_url = 'https://github.com/seoul-opengov/opengov/raw/master/expense_list' + str(year) + '/'\n",
        "\n",
        "    # 02\n",
        "    expense_list_year_dir = data_folder + str(year) + '/'\n",
        "    \n",
        "    # 03\n",
        "    if(os.path.isdir(expense_list_year_dir)):\n",
        "        print('폴더({0})가 존재합니다. {0}년 데이터의 다운로드를 시작합니다.'.format(year))\n",
        "    else:\n",
        "        print('폴더({0})를 생성했습니다. {0}년 데이터의 다운로드를 시작합니다.'.format(year))\n",
        "        pathlib.Path(expense_list_year_dir).mkdir(parents = True, exist_ok = True) \n",
        "        \n",
        "    # 04\n",
        "    for k in range(12):\n",
        "        file_name = '{0}{1:02d}_expense_list.{2}'.format(year, k+1, extension)    \n",
        "        url = expense_list_year_url + file_name\n",
        "        print(url)\n",
        "        r = requests.get(url)\n",
        "        with open(expense_list_year_dir + file_name, 'wb') as f:\n",
        "            f.write(r.content)"
      ],
      "execution_count": null,
      "outputs": []
    },
    {
      "cell_type": "markdown",
      "metadata": {
        "id": "ehnJrUlC51pZ"
      },
      "source": [
        "> ## 2) 함수 실행 옵션\n",
        "\n",
        "* 파일 타입 지정\n",
        "* 연도 지정(2017~2019)\n",
        "* 폴더 지정"
      ]
    },
    {
      "cell_type": "code",
      "metadata": {
        "id": "BDop4bTlw-kP"
      },
      "source": [
        "extension = 'csv' \n",
        "\n",
        "years = [2017, 2018, 2019]\n",
        "\n",
        "data_folder = 'data_folder_' "
      ],
      "execution_count": null,
      "outputs": []
    },
    {
      "cell_type": "markdown",
      "metadata": {
        "id": "EdDaOE-W6Ad0"
      },
      "source": [
        "> ## 3) 파일 다운로드 함수 실행"
      ]
    },
    {
      "cell_type": "code",
      "metadata": {
        "id": "b1pJFJY5xMlF",
        "colab": {
          "base_uri": "https://localhost:8080/"
        },
        "outputId": "c8e1c5f1-b9ac-46dd-c22d-b9408ff4b98f"
      },
      "source": [
        "for year in years:\n",
        "  get_seoul_expense_list(extension, year, data_folder)"
      ],
      "execution_count": null,
      "outputs": [
        {
          "output_type": "stream",
          "name": "stdout",
          "text": [
            "폴더(2017)를 생성했습니다. 2017년 데이터의 다운로드를 시작합니다.\n",
            "https://github.com/seoul-opengov/opengov/raw/master/expense_list2017/201701_expense_list.csv\n",
            "https://github.com/seoul-opengov/opengov/raw/master/expense_list2017/201702_expense_list.csv\n",
            "https://github.com/seoul-opengov/opengov/raw/master/expense_list2017/201703_expense_list.csv\n",
            "https://github.com/seoul-opengov/opengov/raw/master/expense_list2017/201704_expense_list.csv\n",
            "https://github.com/seoul-opengov/opengov/raw/master/expense_list2017/201705_expense_list.csv\n",
            "https://github.com/seoul-opengov/opengov/raw/master/expense_list2017/201706_expense_list.csv\n",
            "https://github.com/seoul-opengov/opengov/raw/master/expense_list2017/201707_expense_list.csv\n",
            "https://github.com/seoul-opengov/opengov/raw/master/expense_list2017/201708_expense_list.csv\n",
            "https://github.com/seoul-opengov/opengov/raw/master/expense_list2017/201709_expense_list.csv\n",
            "https://github.com/seoul-opengov/opengov/raw/master/expense_list2017/201710_expense_list.csv\n",
            "https://github.com/seoul-opengov/opengov/raw/master/expense_list2017/201711_expense_list.csv\n",
            "https://github.com/seoul-opengov/opengov/raw/master/expense_list2017/201712_expense_list.csv\n",
            "폴더(2018)를 생성했습니다. 2018년 데이터의 다운로드를 시작합니다.\n",
            "https://github.com/seoul-opengov/opengov/raw/master/expense_list2018/201801_expense_list.csv\n",
            "https://github.com/seoul-opengov/opengov/raw/master/expense_list2018/201802_expense_list.csv\n",
            "https://github.com/seoul-opengov/opengov/raw/master/expense_list2018/201803_expense_list.csv\n",
            "https://github.com/seoul-opengov/opengov/raw/master/expense_list2018/201804_expense_list.csv\n",
            "https://github.com/seoul-opengov/opengov/raw/master/expense_list2018/201805_expense_list.csv\n",
            "https://github.com/seoul-opengov/opengov/raw/master/expense_list2018/201806_expense_list.csv\n",
            "https://github.com/seoul-opengov/opengov/raw/master/expense_list2018/201807_expense_list.csv\n",
            "https://github.com/seoul-opengov/opengov/raw/master/expense_list2018/201808_expense_list.csv\n",
            "https://github.com/seoul-opengov/opengov/raw/master/expense_list2018/201809_expense_list.csv\n",
            "https://github.com/seoul-opengov/opengov/raw/master/expense_list2018/201810_expense_list.csv\n",
            "https://github.com/seoul-opengov/opengov/raw/master/expense_list2018/201811_expense_list.csv\n",
            "https://github.com/seoul-opengov/opengov/raw/master/expense_list2018/201812_expense_list.csv\n",
            "폴더(2019)를 생성했습니다. 2019년 데이터의 다운로드를 시작합니다.\n",
            "https://github.com/seoul-opengov/opengov/raw/master/expense_list2019/201901_expense_list.csv\n",
            "https://github.com/seoul-opengov/opengov/raw/master/expense_list2019/201902_expense_list.csv\n",
            "https://github.com/seoul-opengov/opengov/raw/master/expense_list2019/201903_expense_list.csv\n",
            "https://github.com/seoul-opengov/opengov/raw/master/expense_list2019/201904_expense_list.csv\n",
            "https://github.com/seoul-opengov/opengov/raw/master/expense_list2019/201905_expense_list.csv\n",
            "https://github.com/seoul-opengov/opengov/raw/master/expense_list2019/201906_expense_list.csv\n",
            "https://github.com/seoul-opengov/opengov/raw/master/expense_list2019/201907_expense_list.csv\n",
            "https://github.com/seoul-opengov/opengov/raw/master/expense_list2019/201908_expense_list.csv\n",
            "https://github.com/seoul-opengov/opengov/raw/master/expense_list2019/201909_expense_list.csv\n",
            "https://github.com/seoul-opengov/opengov/raw/master/expense_list2019/201910_expense_list.csv\n",
            "https://github.com/seoul-opengov/opengov/raw/master/expense_list2019/201911_expense_list.csv\n",
            "https://github.com/seoul-opengov/opengov/raw/master/expense_list2019/201912_expense_list.csv\n"
          ]
        }
      ]
    },
    {
      "cell_type": "markdown",
      "metadata": {
        "id": "aKpsvshi6EKD"
      },
      "source": [
        "> ## 4) 다운로드 결과 확인"
      ]
    },
    {
      "cell_type": "code",
      "metadata": {
        "id": "oM2zylgz0Pna",
        "colab": {
          "base_uri": "https://localhost:8080/"
        },
        "outputId": "ea082e08-14ac-40c7-ed90-b89a1edb3186"
      },
      "source": [
        "!ls -l data_folder_*"
      ],
      "execution_count": null,
      "outputs": [
        {
          "output_type": "stream",
          "name": "stdout",
          "text": [
            "data_folder_2017:\n",
            "total 27016\n",
            "-rw-r--r-- 1 root root 2101932 Feb 23 02:08 201701_expense_list.csv\n",
            "-rw-r--r-- 1 root root 2191463 Feb 23 02:08 201702_expense_list.csv\n",
            "-rw-r--r-- 1 root root 2320233 Feb 23 02:08 201703_expense_list.csv\n",
            "-rw-r--r-- 1 root root 2064545 Feb 23 02:08 201704_expense_list.csv\n",
            "-rw-r--r-- 1 root root 2072997 Feb 23 02:08 201705_expense_list.csv\n",
            "-rw-r--r-- 1 root root 2436396 Feb 23 02:09 201706_expense_list.csv\n",
            "-rw-r--r-- 1 root root 2274618 Feb 23 02:09 201707_expense_list.csv\n",
            "-rw-r--r-- 1 root root 2271758 Feb 23 02:09 201708_expense_list.csv\n",
            "-rw-r--r-- 1 root root 2297135 Feb 23 02:09 201709_expense_list.csv\n",
            "-rw-r--r-- 1 root root 2043312 Feb 23 02:09 201710_expense_list.csv\n",
            "-rw-r--r-- 1 root root 2600188 Feb 23 02:09 201711_expense_list.csv\n",
            "-rw-r--r-- 1 root root 2962735 Feb 23 02:09 201712_expense_list.csv\n",
            "\n",
            "data_folder_2018:\n",
            "total 28672\n",
            "-rw-r--r-- 1 root root 2384105 Feb 23 02:09 201801_expense_list.csv\n",
            "-rw-r--r-- 1 root root 2140712 Feb 23 02:09 201802_expense_list.csv\n",
            "-rw-r--r-- 1 root root 2341018 Feb 23 02:09 201803_expense_list.csv\n",
            "-rw-r--r-- 1 root root 2371427 Feb 23 02:09 201804_expense_list.csv\n",
            "-rw-r--r-- 1 root root 2174724 Feb 23 02:09 201805_expense_list.csv\n",
            "-rw-r--r-- 1 root root 2200840 Feb 23 02:09 201806_expense_list.csv\n",
            "-rw-r--r-- 1 root root 2523642 Feb 23 02:09 201807_expense_list.csv\n",
            "-rw-r--r-- 1 root root 2374994 Feb 23 02:09 201808_expense_list.csv\n",
            "-rw-r--r-- 1 root root 2127882 Feb 23 02:09 201809_expense_list.csv\n",
            "-rw-r--r-- 1 root root 2629462 Feb 23 02:09 201810_expense_list.csv\n",
            "-rw-r--r-- 1 root root 2912043 Feb 23 02:09 201811_expense_list.csv\n",
            "-rw-r--r-- 1 root root 3158601 Feb 23 02:09 201812_expense_list.csv\n",
            "\n",
            "data_folder_2019:\n",
            "total 30228\n",
            "-rw-r--r-- 1 root root 2567789 Feb 23 02:09 201901_expense_list.csv\n",
            "-rw-r--r-- 1 root root 2254140 Feb 23 02:09 201902_expense_list.csv\n",
            "-rw-r--r-- 1 root root 2491410 Feb 23 02:09 201903_expense_list.csv\n",
            "-rw-r--r-- 1 root root 2609914 Feb 23 02:09 201904_expense_list.csv\n",
            "-rw-r--r-- 1 root root 2396247 Feb 23 02:09 201905_expense_list.csv\n",
            "-rw-r--r-- 1 root root 2360821 Feb 23 02:09 201906_expense_list.csv\n",
            "-rw-r--r-- 1 root root 2716107 Feb 23 02:09 201907_expense_list.csv\n",
            "-rw-r--r-- 1 root root 2371337 Feb 23 02:09 201908_expense_list.csv\n",
            "-rw-r--r-- 1 root root 2366976 Feb 23 02:09 201909_expense_list.csv\n",
            "-rw-r--r-- 1 root root 2742090 Feb 23 02:09 201910_expense_list.csv\n",
            "-rw-r--r-- 1 root root 2747034 Feb 23 02:09 201911_expense_list.csv\n",
            "-rw-r--r-- 1 root root 3301721 Feb 23 02:09 201912_expense_list.csv\n"
          ]
        }
      ]
    },
    {
      "cell_type": "markdown",
      "metadata": {
        "id": "AUBdjNIO2D_K"
      },
      "source": [
        "# II. 데이터 전처리"
      ]
    },
    {
      "cell_type": "markdown",
      "metadata": {
        "id": "VyPjW9PCKRJj"
      },
      "source": [
        "> ## 1) 파일 구조 및 정보 확인\n",
        "\n",
        "* 파일 한 개 사용"
      ]
    },
    {
      "cell_type": "code",
      "metadata": {
        "id": "Hixa3TSD0qPE",
        "colab": {
          "base_uri": "https://localhost:8080/"
        },
        "outputId": "ce1df4cd-1d42-49ac-9da2-f60f9f30266a"
      },
      "source": [
        "import pandas as pd\n",
        "\n",
        "df = pd.read_csv('data_folder_2017/201701_expense_list.csv')\n",
        "\n",
        "df.info()"
      ],
      "execution_count": null,
      "outputs": [
        {
          "output_type": "stream",
          "name": "stdout",
          "text": [
            "<class 'pandas.core.frame.DataFrame'>\n",
            "RangeIndex: 5517 entries, 0 to 5516\n",
            "Data columns (total 20 columns):\n",
            " #   Column             Non-Null Count  Dtype  \n",
            "---  ------             --------------  -----  \n",
            " 0   nid                5517 non-null   int64  \n",
            " 1   title              5517 non-null   object \n",
            " 2   url                5517 non-null   object \n",
            " 3   dept_nm_lvl_1      5517 non-null   object \n",
            " 4   dept_nm_lvl_2      5517 non-null   object \n",
            " 5   dept_nm_lvl_3      4842 non-null   object \n",
            " 6   dept_nm_lvl_4      1350 non-null   object \n",
            " 7   dept_nm_lvl_5      252 non-null    object \n",
            " 8   exec_yr            5517 non-null   int64  \n",
            " 9   exec_month         5517 non-null   int64  \n",
            " 10  expense_budget     274 non-null    float64\n",
            " 11  expense_execution  202 non-null    float64\n",
            " 12  category           115 non-null    object \n",
            " 13  dept_nm_full       5517 non-null   object \n",
            " 14  exec_dt            5517 non-null   object \n",
            " 15  exec_loc           5467 non-null   object \n",
            " 16  exec_purpose       5516 non-null   object \n",
            " 17  target_nm          5486 non-null   object \n",
            " 18  payment_method     5514 non-null   object \n",
            " 19  exec_amount        5517 non-null   int64  \n",
            "dtypes: float64(2), int64(4), object(14)\n",
            "memory usage: 862.2+ KB\n"
          ]
        }
      ]
    },
    {
      "cell_type": "markdown",
      "metadata": {
        "id": "0TBl6lbv2L7n"
      },
      "source": [
        "> ## 2) 함수 정의\n",
        "\n",
        "* 열(Column) 이름 확인"
      ]
    },
    {
      "cell_type": "code",
      "metadata": {
        "id": "e-9Lnp_T2OcZ",
        "colab": {
          "base_uri": "https://localhost:8080/"
        },
        "outputId": "3fce04f0-1aaf-462f-9ee0-cd401d54d353"
      },
      "source": [
        "df.columns"
      ],
      "execution_count": null,
      "outputs": [
        {
          "output_type": "execute_result",
          "data": {
            "text/plain": [
              "Index(['nid', 'title', 'url', 'dept_nm_lvl_1', 'dept_nm_lvl_2',\n",
              "       'dept_nm_lvl_3', 'dept_nm_lvl_4', 'dept_nm_lvl_5', 'exec_yr',\n",
              "       'exec_month', 'expense_budget', 'expense_execution', 'category',\n",
              "       'dept_nm_full', 'exec_dt', 'exec_loc', 'exec_purpose', 'target_nm',\n",
              "       'payment_method', 'exec_amount'],\n",
              "      dtype='object')"
            ]
          },
          "metadata": {},
          "execution_count": 9
        }
      ]
    },
    {
      "cell_type": "markdown",
      "metadata": {
        "id": "T9Yfcpi8JR3H"
      },
      "source": [
        "* 열(Column) 이름 변경 함수 "
      ]
    },
    {
      "cell_type": "code",
      "metadata": {
        "id": "8ekF0JVgKV91"
      },
      "source": [
        "def change_csv_file_first_line_value(old_file_name, new_file_name):\n",
        "    # 읽기 모드 열기\n",
        "    with open(old_file_name, encoding = 'utf-8') as f:  \n",
        "        # 한 줄씩 lines 리스트의 각 요소에 할당\n",
        "        lines = f.read().splitlines()\n",
        "    \n",
        "    # 변경할 열(Column) 이름 지정\n",
        "    lines[0] = 'nid,제목,url,부서레벨1,부서레벨2,부서레벨3,부서레벨4,\\\n",
        "부서레벨5,집행연도,집행월,예산,집행,구분,부서명,\\\n",
        "집행일시,집행장소,집행목적,대상인원,결제방법,집행금액'\n",
        "    \n",
        "    # 쓰기 모드 열기\n",
        "    with open(new_file_name, 'w', encoding = 'utf-8') as f:  \n",
        "        # 리스트 각 요소 개행문자(\\n)로 연결해서 파일 저장\n",
        "        f.write('\\n'.join(lines))"
      ],
      "execution_count": null,
      "outputs": []
    },
    {
      "cell_type": "markdown",
      "metadata": {
        "id": "NIRoiApRbOad"
      },
      "source": [
        "* '_new' 추가한 새파일 저장 함수"
      ]
    },
    {
      "cell_type": "code",
      "metadata": {
        "id": "58A1m8cJBdpm"
      },
      "source": [
        "# 인자: 연도, 데이터 파일이 있는 폴더\n",
        "def change_year_csv_file_first_line_value(year, data_folder): \n",
        "\n",
        "    # 파일 폴더 지정\n",
        "    expense_list_year_dir = data_folder + str(year) + '/'\n",
        "    \n",
        "    # 확장자 이름\n",
        "    extension = 'csv' \n",
        "    \n",
        "    # 지정한 폴더에 있는 월별 업무추진비 파일에서 첫 번째 줄의 열 이름을 변경 \n",
        "    for k in range(12):\n",
        "        # 기존 파일 이름\n",
        "        old_file_name = expense_list_year_dir + '{0}{1:02d}_expense_list.{2}'.format(year, k+1, extension) \n",
        "        \n",
        "        # 새파일 이름\n",
        "        new_file_name = expense_list_year_dir + '{0}{1:02d}_expense_list_new.{2}'.format(year, k+1, extension) \n",
        "  \n",
        "        # 열(Column) 이름 변경 함수\n",
        "        change_csv_file_first_line_value(old_file_name, new_file_name)"
      ],
      "execution_count": null,
      "outputs": []
    },
    {
      "cell_type": "markdown",
      "metadata": {
        "id": "ap8Z5wwhb2__"
      },
      "source": [
        "> ## 3) 함수 적용"
      ]
    },
    {
      "cell_type": "code",
      "metadata": {
        "id": "BrLhmlP4BsMb",
        "colab": {
          "base_uri": "https://localhost:8080/"
        },
        "outputId": "dccfcf53-c4d0-4186-ace7-416003b1b6c9"
      },
      "source": [
        "data_folder = 'data_folder_'\n",
        "\n",
        "years = [2017, 2018, 2019]\n",
        "\n",
        "for year in years:\n",
        "    print('{}년 데이터의 첫 번째 줄의 열 이름을 변경해서 새 파일에 저장합니다.'.format(year))\n",
        "    change_year_csv_file_first_line_value(year, data_folder)\n",
        "\n",
        "print('모든 데이터의 첫 번째 줄의 열 이름을 변경해서 새 파일로 저장했습니다.')"
      ],
      "execution_count": null,
      "outputs": [
        {
          "output_type": "stream",
          "name": "stdout",
          "text": [
            "2017년 데이터의 첫 번째 줄의 열 이름을 변경해서 새 파일에 저장합니다.\n",
            "2018년 데이터의 첫 번째 줄의 열 이름을 변경해서 새 파일에 저장합니다.\n",
            "2019년 데이터의 첫 번째 줄의 열 이름을 변경해서 새 파일에 저장합니다.\n",
            "모든 데이터의 첫 번째 줄의 열 이름을 변경해서 새 파일로 저장했습니다.\n"
          ]
        }
      ]
    },
    {
      "cell_type": "markdown",
      "metadata": {
        "id": "5XD5JoH5cJiQ"
      },
      "source": [
        "* 새파일 생성 확인"
      ]
    },
    {
      "cell_type": "code",
      "metadata": {
        "id": "YcYzBVJ3CF58",
        "colab": {
          "base_uri": "https://localhost:8080/"
        },
        "outputId": "45215ef3-99e2-4fd5-9d76-382bd32d4c07"
      },
      "source": [
        "!ls -l data_folder_*/*new.csv"
      ],
      "execution_count": null,
      "outputs": [
        {
          "output_type": "stream",
          "name": "stdout",
          "text": [
            "-rw-r--r-- 1 root root 2101920 Feb 23 02:09 data_folder_2017/201701_expense_list_new.csv\n",
            "-rw-r--r-- 1 root root 2191451 Feb 23 02:09 data_folder_2017/201702_expense_list_new.csv\n",
            "-rw-r--r-- 1 root root 2320221 Feb 23 02:09 data_folder_2017/201703_expense_list_new.csv\n",
            "-rw-r--r-- 1 root root 2064533 Feb 23 02:09 data_folder_2017/201704_expense_list_new.csv\n",
            "-rw-r--r-- 1 root root 2072985 Feb 23 02:09 data_folder_2017/201705_expense_list_new.csv\n",
            "-rw-r--r-- 1 root root 2436384 Feb 23 02:09 data_folder_2017/201706_expense_list_new.csv\n",
            "-rw-r--r-- 1 root root 2274606 Feb 23 02:09 data_folder_2017/201707_expense_list_new.csv\n",
            "-rw-r--r-- 1 root root 2271746 Feb 23 02:09 data_folder_2017/201708_expense_list_new.csv\n",
            "-rw-r--r-- 1 root root 2297123 Feb 23 02:09 data_folder_2017/201709_expense_list_new.csv\n",
            "-rw-r--r-- 1 root root 2043300 Feb 23 02:09 data_folder_2017/201710_expense_list_new.csv\n",
            "-rw-r--r-- 1 root root 2600176 Feb 23 02:09 data_folder_2017/201711_expense_list_new.csv\n",
            "-rw-r--r-- 1 root root 2962723 Feb 23 02:09 data_folder_2017/201712_expense_list_new.csv\n",
            "-rw-r--r-- 1 root root 2384093 Feb 23 02:09 data_folder_2018/201801_expense_list_new.csv\n",
            "-rw-r--r-- 1 root root 2140700 Feb 23 02:09 data_folder_2018/201802_expense_list_new.csv\n",
            "-rw-r--r-- 1 root root 2341006 Feb 23 02:09 data_folder_2018/201803_expense_list_new.csv\n",
            "-rw-r--r-- 1 root root 2371415 Feb 23 02:09 data_folder_2018/201804_expense_list_new.csv\n",
            "-rw-r--r-- 1 root root 2174712 Feb 23 02:09 data_folder_2018/201805_expense_list_new.csv\n",
            "-rw-r--r-- 1 root root 2200828 Feb 23 02:09 data_folder_2018/201806_expense_list_new.csv\n",
            "-rw-r--r-- 1 root root 2523630 Feb 23 02:09 data_folder_2018/201807_expense_list_new.csv\n",
            "-rw-r--r-- 1 root root 2374982 Feb 23 02:09 data_folder_2018/201808_expense_list_new.csv\n",
            "-rw-r--r-- 1 root root 2127870 Feb 23 02:09 data_folder_2018/201809_expense_list_new.csv\n",
            "-rw-r--r-- 1 root root 2629450 Feb 23 02:09 data_folder_2018/201810_expense_list_new.csv\n",
            "-rw-r--r-- 1 root root 2912031 Feb 23 02:09 data_folder_2018/201811_expense_list_new.csv\n",
            "-rw-r--r-- 1 root root 3158589 Feb 23 02:09 data_folder_2018/201812_expense_list_new.csv\n",
            "-rw-r--r-- 1 root root 2567777 Feb 23 02:09 data_folder_2019/201901_expense_list_new.csv\n",
            "-rw-r--r-- 1 root root 2254128 Feb 23 02:09 data_folder_2019/201902_expense_list_new.csv\n",
            "-rw-r--r-- 1 root root 2491398 Feb 23 02:09 data_folder_2019/201903_expense_list_new.csv\n",
            "-rw-r--r-- 1 root root 2609902 Feb 23 02:09 data_folder_2019/201904_expense_list_new.csv\n",
            "-rw-r--r-- 1 root root 2396235 Feb 23 02:09 data_folder_2019/201905_expense_list_new.csv\n",
            "-rw-r--r-- 1 root root 2360809 Feb 23 02:09 data_folder_2019/201906_expense_list_new.csv\n",
            "-rw-r--r-- 1 root root 2716095 Feb 23 02:09 data_folder_2019/201907_expense_list_new.csv\n",
            "-rw-r--r-- 1 root root 2371325 Feb 23 02:09 data_folder_2019/201908_expense_list_new.csv\n",
            "-rw-r--r-- 1 root root 2366964 Feb 23 02:09 data_folder_2019/201909_expense_list_new.csv\n",
            "-rw-r--r-- 1 root root 2742078 Feb 23 02:09 data_folder_2019/201910_expense_list_new.csv\n",
            "-rw-r--r-- 1 root root 2747022 Feb 23 02:09 data_folder_2019/201911_expense_list_new.csv\n",
            "-rw-r--r-- 1 root root 3301709 Feb 23 02:09 data_folder_2019/201912_expense_list_new.csv\n"
          ]
        }
      ]
    },
    {
      "cell_type": "markdown",
      "metadata": {
        "id": "6S3YGS5WcO2m"
      },
      "source": [
        "* 열(Column) 이름 변경 확인"
      ]
    },
    {
      "cell_type": "code",
      "metadata": {
        "id": "u9lDIO_UCdd9",
        "colab": {
          "base_uri": "https://localhost:8080/"
        },
        "outputId": "11915d1b-26b9-43d6-f030-41cd2eef7232"
      },
      "source": [
        "df_new = pd.read_csv('data_folder_2017/201701_expense_list_new.csv')\n",
        "\n",
        "df.columns, df_new.columns"
      ],
      "execution_count": null,
      "outputs": [
        {
          "output_type": "execute_result",
          "data": {
            "text/plain": [
              "(Index(['nid', 'title', 'url', 'dept_nm_lvl_1', 'dept_nm_lvl_2',\n",
              "        'dept_nm_lvl_3', 'dept_nm_lvl_4', 'dept_nm_lvl_5', 'exec_yr',\n",
              "        'exec_month', 'expense_budget', 'expense_execution', 'category',\n",
              "        'dept_nm_full', 'exec_dt', 'exec_loc', 'exec_purpose', 'target_nm',\n",
              "        'payment_method', 'exec_amount'],\n",
              "       dtype='object'),\n",
              " Index(['nid', '제목', 'url', '부서레벨1', '부서레벨2', '부서레벨3', '부서레벨4', '부서레벨5', '집행연도',\n",
              "        '집행월', '예산', '집행', '구분', '부서명', '집행일시', '집행장소', '집행목적', '대상인원', '결제방법',\n",
              "        '집행금액'],\n",
              "       dtype='object'))"
            ]
          },
          "metadata": {},
          "execution_count": 14
        }
      ]
    },
    {
      "cell_type": "markdown",
      "metadata": {
        "id": "Fn004BDSPxrq"
      },
      "source": [
        "> ## 4) 결측치 확인\n",
        "\n",
        "* .info( ) 적용"
      ]
    },
    {
      "cell_type": "code",
      "metadata": {
        "id": "cbwn9CQ0P4vP",
        "colab": {
          "base_uri": "https://localhost:8080/"
        },
        "outputId": "ab9211b8-c2ac-4af6-a920-e1320465e6f9"
      },
      "source": [
        "df_new.info()"
      ],
      "execution_count": null,
      "outputs": [
        {
          "output_type": "stream",
          "name": "stdout",
          "text": [
            "<class 'pandas.core.frame.DataFrame'>\n",
            "RangeIndex: 5517 entries, 0 to 5516\n",
            "Data columns (total 20 columns):\n",
            " #   Column  Non-Null Count  Dtype  \n",
            "---  ------  --------------  -----  \n",
            " 0   nid     5517 non-null   int64  \n",
            " 1   제목      5517 non-null   object \n",
            " 2   url     5517 non-null   object \n",
            " 3   부서레벨1   5517 non-null   object \n",
            " 4   부서레벨2   5517 non-null   object \n",
            " 5   부서레벨3   4842 non-null   object \n",
            " 6   부서레벨4   1350 non-null   object \n",
            " 7   부서레벨5   252 non-null    object \n",
            " 8   집행연도    5517 non-null   int64  \n",
            " 9   집행월     5517 non-null   int64  \n",
            " 10  예산      274 non-null    float64\n",
            " 11  집행      202 non-null    float64\n",
            " 12  구분      115 non-null    object \n",
            " 13  부서명     5517 non-null   object \n",
            " 14  집행일시    5517 non-null   object \n",
            " 15  집행장소    5467 non-null   object \n",
            " 16  집행목적    5516 non-null   object \n",
            " 17  대상인원    5486 non-null   object \n",
            " 18  결제방법    5514 non-null   object \n",
            " 19  집행금액    5517 non-null   int64  \n",
            "dtypes: float64(2), int64(4), object(14)\n",
            "memory usage: 862.2+ KB\n"
          ]
        }
      ]
    },
    {
      "cell_type": "markdown",
      "metadata": {
        "id": "If5KGj3vKoFk"
      },
      "source": [
        "* isna( ) 적용\n",
        " - '부서레벨3', '부서레벨4', '부서레벨5', '예산', '집행', '구분'"
      ]
    },
    {
      "cell_type": "code",
      "metadata": {
        "id": "1nEwVYRTtY2M",
        "colab": {
          "base_uri": "https://localhost:8080/"
        },
        "outputId": "1f352f01-3687-4b99-ebd8-e6351d556a6f"
      },
      "source": [
        "df_new.isna().sum(axis = 0)"
      ],
      "execution_count": null,
      "outputs": [
        {
          "output_type": "execute_result",
          "data": {
            "text/plain": [
              "nid         0\n",
              "제목          0\n",
              "url         0\n",
              "부서레벨1       0\n",
              "부서레벨2       0\n",
              "부서레벨3     675\n",
              "부서레벨4    4167\n",
              "부서레벨5    5265\n",
              "집행연도        0\n",
              "집행월         0\n",
              "예산       5243\n",
              "집행       5315\n",
              "구분       5402\n",
              "부서명         0\n",
              "집행일시        0\n",
              "집행장소       50\n",
              "집행목적        1\n",
              "대상인원       31\n",
              "결제방법        3\n",
              "집행금액        0\n",
              "dtype: int64"
            ]
          },
          "metadata": {},
          "execution_count": 16
        }
      ]
    },
    {
      "cell_type": "markdown",
      "metadata": {
        "id": "9Aan1Qtlgu2I"
      },
      "source": [
        "> ## 5) 연도별 파일 통합\n",
        "\n",
        "* 파일 통합 함수 정의"
      ]
    },
    {
      "cell_type": "code",
      "metadata": {
        "id": "fY6dovAEg6kO"
      },
      "source": [
        "def select_columns_save_file(year, data_folder, drop_columns_list):\n",
        "    \n",
        "    expense_list_year_dir = data_folder + str(year) + '/'\n",
        "    expense_list_tidy_file = '{}_expense_list_tidy.csv'.format(year)\n",
        "    df_year = pd.DataFrame()\n",
        "    \n",
        "    for k in range(12):\n",
        "        # 새파일 이름 지정\n",
        "        file_name = '{0}{1:02d}_expense_list_new.csv'.format(year, k+1)\n",
        "        \n",
        "        # DtaFrame 형식으로 csv 데이터 불러오기\n",
        "        df_month = pd.read_csv(expense_list_year_dir + file_name)\n",
        "        \n",
        "        # df_month 새로 추가해서 df_year에 다시 할당\n",
        "        df_year = df_year.append(df_month, ignore_index = True)\n",
        "        \n",
        "    df_year_drop = df_year.drop(columns = drop_columns_list)\n",
        "    new_file_name = expense_list_year_dir + expense_list_tidy_file\n",
        "    df_year_drop.to_csv(new_file_name, index = False)\n",
        "    \n",
        "    print('==> {} 파일 생성'.format(expense_list_tidy_file))"
      ],
      "execution_count": null,
      "outputs": []
    },
    {
      "cell_type": "markdown",
      "metadata": {
        "id": "-PD45gWvGm_m"
      },
      "source": [
        "* 함수 실행 옵션"
      ]
    },
    {
      "cell_type": "code",
      "metadata": {
        "id": "z64Mq18HiBG6"
      },
      "source": [
        "data_folder = 'data_folder_'\n",
        "\n",
        "years = [2017, 2018, 2019]\n",
        "\n",
        "drop_columns_list = ['nid', 'url', '부서레벨3', '부서레벨4', '부서레벨5', '예산', '집행', '구분']"
      ],
      "execution_count": null,
      "outputs": []
    },
    {
      "cell_type": "markdown",
      "metadata": {
        "id": "QIHcbLbRG7hq"
      },
      "source": [
        "* 파일 통합 함수 실행"
      ]
    },
    {
      "cell_type": "code",
      "metadata": {
        "id": "6zJWzRxXiUeT",
        "colab": {
          "base_uri": "https://localhost:8080/"
        },
        "outputId": "8645bfc2-6b95-4770-df69-e2902f7b4abd"
      },
      "source": [
        "for year in years:\n",
        "    print('{}년 파일 통합중...'.format(year))\n",
        "    select_columns_save_file(year, data_folder, drop_columns_list)\n",
        "print('파일 통합 완료.')"
      ],
      "execution_count": null,
      "outputs": [
        {
          "output_type": "stream",
          "name": "stdout",
          "text": [
            "2017년 파일 통합중...\n",
            "==> 2017_expense_list_tidy.csv 파일 생성\n",
            "2018년 파일 통합중...\n",
            "==> 2018_expense_list_tidy.csv 파일 생성\n",
            "2019년 파일 통합중...\n",
            "==> 2019_expense_list_tidy.csv 파일 생성\n",
            "파일 통합 완료.\n"
          ]
        }
      ]
    },
    {
      "cell_type": "markdown",
      "metadata": {
        "id": "OSqYFG6IG_pK"
      },
      "source": [
        "* 생성된 통합 파일 확인"
      ]
    },
    {
      "cell_type": "code",
      "metadata": {
        "id": "m53-Zs40ltt5",
        "colab": {
          "base_uri": "https://localhost:8080/"
        },
        "outputId": "95540a0c-9718-4e4c-ca55-585feedb38af"
      },
      "source": [
        "!ls -l data_folder_*/*tidy*"
      ],
      "execution_count": null,
      "outputs": [
        {
          "output_type": "stream",
          "name": "stdout",
          "text": [
            "-rw-r--r-- 1 root root 21435432 Feb 23 02:10 data_folder_2017/2017_expense_list_tidy.csv\n",
            "-rw-r--r-- 1 root root 22940371 Feb 23 02:10 data_folder_2018/2018_expense_list_tidy.csv\n",
            "-rw-r--r-- 1 root root 24385017 Feb 23 02:10 data_folder_2019/2019_expense_list_tidy.csv\n"
          ]
        }
      ]
    },
    {
      "cell_type": "markdown",
      "metadata": {
        "id": "E0IaNhG2HEEW"
      },
      "source": [
        "* 2017 통합 파일 정보"
      ]
    },
    {
      "cell_type": "code",
      "metadata": {
        "id": "2blpUflUl_J8",
        "colab": {
          "base_uri": "https://localhost:8080/"
        },
        "outputId": "b423fcb2-2782-4b5f-cfb2-c8f30359d06c"
      },
      "source": [
        "df_2017 = pd.read_csv('data_folder_2017/2017_expense_list_tidy.csv')\n",
        "\n",
        "df_2017.info()"
      ],
      "execution_count": null,
      "outputs": [
        {
          "output_type": "stream",
          "name": "stdout",
          "text": [
            "<class 'pandas.core.frame.DataFrame'>\n",
            "RangeIndex: 70132 entries, 0 to 70131\n",
            "Data columns (total 12 columns):\n",
            " #   Column  Non-Null Count  Dtype \n",
            "---  ------  --------------  ----- \n",
            " 0   제목      70132 non-null  object\n",
            " 1   부서레벨1   70132 non-null  object\n",
            " 2   부서레벨2   70074 non-null  object\n",
            " 3   집행연도    70132 non-null  int64 \n",
            " 4   집행월     70132 non-null  int64 \n",
            " 5   부서명     70053 non-null  object\n",
            " 6   집행일시    70132 non-null  object\n",
            " 7   집행장소    69360 non-null  object\n",
            " 8   집행목적    70110 non-null  object\n",
            " 9   대상인원    69597 non-null  object\n",
            " 10  결제방법    69929 non-null  object\n",
            " 11  집행금액    70132 non-null  int64 \n",
            "dtypes: int64(3), object(9)\n",
            "memory usage: 6.4+ MB\n"
          ]
        }
      ]
    },
    {
      "cell_type": "markdown",
      "metadata": {
        "id": "DDn7ywZRDuSL"
      },
      "source": [
        "> ## 6) 전체 파일 통합\n",
        "\n",
        "* DataFrame : df_expense_all"
      ]
    },
    {
      "cell_type": "code",
      "metadata": {
        "id": "kSnSarAiefzc"
      },
      "source": [
        "import pandas as pd"
      ],
      "execution_count": null,
      "outputs": []
    },
    {
      "cell_type": "code",
      "metadata": {
        "id": "PuUoZ1TXDtuD"
      },
      "source": [
        "data_folder = 'data_folder_'\n",
        "\n",
        "years = [2017, 2018, 2019]\n",
        "\n",
        "df_expense_all = pd.DataFrame()\n",
        "\n",
        "\n",
        "for year in years:\n",
        "    expense_list_year_dir = data_folder + str(year) + '/'\n",
        "    expense_list_tidy_file = '{}_expense_list_tidy.csv'.format(year)\n",
        "    \n",
        "    path_file_name = expense_list_year_dir + expense_list_tidy_file\n",
        "    \n",
        "    df_expense = pd.read_csv(path_file_name)\n",
        "    df_expense_all = df_expense_all.append(df_expense, ignore_index = True)"
      ],
      "execution_count": null,
      "outputs": []
    },
    {
      "cell_type": "markdown",
      "metadata": {
        "id": "jfSZ4kfoIAG7"
      },
      "source": [
        "* 전체 통합 DataFrame 확인"
      ]
    },
    {
      "cell_type": "code",
      "metadata": {
        "id": "pmCQxoFLEQPV",
        "colab": {
          "base_uri": "https://localhost:8080/"
        },
        "outputId": "a6fa368b-4206-4e04-8cba-4f0cdecb55d1"
      },
      "source": [
        "df_expense_all.info()"
      ],
      "execution_count": null,
      "outputs": [
        {
          "output_type": "stream",
          "name": "stdout",
          "text": [
            "<class 'pandas.core.frame.DataFrame'>\n",
            "RangeIndex: 216557 entries, 0 to 216556\n",
            "Data columns (total 12 columns):\n",
            " #   Column  Non-Null Count   Dtype \n",
            "---  ------  --------------   ----- \n",
            " 0   제목      216557 non-null  object\n",
            " 1   부서레벨1   216557 non-null  object\n",
            " 2   부서레벨2   216273 non-null  object\n",
            " 3   집행연도    216557 non-null  int64 \n",
            " 4   집행월     216557 non-null  int64 \n",
            " 5   부서명     216478 non-null  object\n",
            " 6   집행일시    216557 non-null  object\n",
            " 7   집행장소    214401 non-null  object\n",
            " 8   집행목적    216535 non-null  object\n",
            " 9   대상인원    215535 non-null  object\n",
            " 10  결제방법    216354 non-null  object\n",
            " 11  집행금액    216557 non-null  int64 \n",
            "dtypes: int64(3), object(9)\n",
            "memory usage: 19.8+ MB\n"
          ]
        }
      ]
    },
    {
      "cell_type": "markdown",
      "metadata": {
        "id": "qrh9WQOEIG6t"
      },
      "source": [
        "* 'seoulExpense.csv' 파일 저장"
      ]
    },
    {
      "cell_type": "code",
      "metadata": {
        "id": "QAC7-H1fEcsj"
      },
      "source": [
        "df_expense_all.to_csv('seoulExpense.csv')"
      ],
      "execution_count": null,
      "outputs": []
    },
    {
      "cell_type": "markdown",
      "metadata": {
        "id": "KnbJFy2s2_DY"
      },
      "source": [
        "# III.  데이터 분석"
      ]
    },
    {
      "cell_type": "markdown",
      "metadata": {
        "id": "LdgXUtwMKzmR"
      },
      "source": [
        "> ## 1) 연도별 집행횟수\n",
        "\n",
        "* 연도별 .value_count( )"
      ]
    },
    {
      "cell_type": "code",
      "metadata": {
        "id": "jwTzuIlY3EBp",
        "colab": {
          "base_uri": "https://localhost:8080/"
        },
        "outputId": "dee5984e-9bd8-460b-ff3b-0ba4ab81b8c3"
      },
      "source": [
        "year_trend = df_expense_all['집행연도'].value_counts()\n",
        "\n",
        "year_trend"
      ],
      "execution_count": null,
      "outputs": [
        {
          "output_type": "execute_result",
          "data": {
            "text/plain": [
              "2019    74207\n",
              "2018    72218\n",
              "2017    70132\n",
              "Name: 집행연도, dtype: int64"
            ]
          },
          "metadata": {},
          "execution_count": 27
        }
      ]
    },
    {
      "cell_type": "markdown",
      "metadata": {
        "id": "NruTYmXQYS7m"
      },
      "source": [
        "* 막대그래프 시각화"
      ]
    },
    {
      "cell_type": "code",
      "metadata": {
        "id": "n6dJeDtQJL3u",
        "colab": {
          "base_uri": "https://localhost:8080/",
          "height": 455
        },
        "outputId": "67c527d9-89fc-4fc4-e7e4-436df48675d7"
      },
      "source": [
        "import matplotlib.pyplot as plt\n",
        "import matplotlib\n",
        "\n",
        "plt.figure(figsize = (10, 7))\n",
        "plt.bar(year_trend.index, year_trend.values, \n",
        "        tick_label = year_trend.index, \n",
        "        width = 0.5)\n",
        "plt.title('연도별 업무추진비 집행 횟수')\n",
        "plt.xlabel('연도')\n",
        "plt.ylabel('집행 횟수')\n",
        "plt.show()"
      ],
      "execution_count": null,
      "outputs": [
        {
          "output_type": "display_data",
          "data": {
            "image/png": "[encoded data removed]",
            "text/plain": [
              "<Figure size 720x504 with 1 Axes>"
            ]
          },
          "metadata": {
            "needs_background": "light"
          }
        }
      ]
    },
    {
      "cell_type": "markdown",
      "metadata": {
        "id": "vmLTAb8_3bin"
      },
      "source": [
        "> ## 2) 연도별 집행금액\n",
        "\n",
        "* 연도별 .pibot_table( )"
      ]
    },
    {
      "cell_type": "code",
      "metadata": {
        "id": "rv0LSwwm3dmd",
        "colab": {
          "base_uri": "https://localhost:8080/",
          "height": 174
        },
        "outputId": "59ded1ce-3db2-48c5-a221-5246be9ac8dd"
      },
      "source": [
        "year_total = pd.pivot_table(df_expense_all, \n",
        "                            index = ['집행연도'], \n",
        "                            values = ['집행금액'], \n",
        "                            aggfunc = sum)\n",
        "\n",
        "year_total"
      ],
      "execution_count": null,
      "outputs": [
        {
          "output_type": "execute_result",
          "data": {
            "text/html": [
              "\n",
              "  <div id=\"df-492a2672-aa89-4b8c-9149-d25b423660de\">\n",
              "    <div class=\"colab-df-container\">\n",
              "      <div>\n",
              "<style scoped>\n",
              "    .dataframe tbody tr th:only-of-type {\n",
              "        vertical-align: middle;\n",
              "    }\n",
              "\n",
              "    .dataframe tbody tr th {\n",
              "        vertical-align: top;\n",
              "    }\n",
              "\n",
              "    .dataframe thead th {\n",
              "        text-align: right;\n",
              "    }\n",
              "</style>\n",
              "<table border=\"1\" class=\"dataframe\">\n",
              "  <thead>\n",
              "    <tr style=\"text-align: right;\">\n",
              "      <th></th>\n",
              "      <th>집행금액</th>\n",
              "    </tr>\n",
              "    <tr>\n",
              "      <th>집행연도</th>\n",
              "      <th></th>\n",
              "    </tr>\n",
              "  </thead>\n",
              "  <tbody>\n",
              "    <tr>\n",
              "      <th>2017</th>\n",
              "      <td>9076941387</td>\n",
              "    </tr>\n",
              "    <tr>\n",
              "      <th>2018</th>\n",
              "      <td>9937556542</td>\n",
              "    </tr>\n",
              "    <tr>\n",
              "      <th>2019</th>\n",
              "      <td>10532330632</td>\n",
              "    </tr>\n",
              "  </tbody>\n",
              "</table>\n",
              "</div>\n",
              "      <button class=\"colab-df-convert\" onclick=\"convertToInteractive('df-492a2672-aa89-4b8c-9149-d25b423660de')\"\n",
              "              title=\"Convert this dataframe to an interactive table.\"\n",
              "              style=\"display:none;\">\n",
              "        \n",
              "  <svg xmlns=\"http://www.w3.org/2000/svg\" height=\"24px\"viewBox=\"0 0 24 24\"\n",
              "       width=\"24px\">\n",
              "    <path d=\"M0 0h24v24H0V0z\" fill=\"none\"/>\n",
              "    <path d=\"M18.56 5.44l.94 2.06.94-2.06 2.06-.94-2.06-.94-.94-2.06-.94 2.06-2.06.94zm-11 1L8.5 8.5l.94-2.06 2.06-.94-2.06-.94L8.5 2.5l-.94 2.06-2.06.94zm10 10l.94 2.06.94-2.06 2.06-.94-2.06-.94-.94-2.06-.94 2.06-2.06.94z\"/><path d=\"M17.41 7.96l-1.37-1.37c-.4-.4-.92-.59-1.43-.59-.52 0-1.04.2-1.43.59L10.3 9.45l-7.72 7.72c-.78.78-.78 2.05 0 2.83L4 21.41c.39.39.9.59 1.41.59.51 0 1.02-.2 1.41-.59l7.78-7.78 2.81-2.81c.8-.78.8-2.07 0-2.86zM5.41 20L4 18.59l7.72-7.72 1.47 1.35L5.41 20z\"/>\n",
              "  </svg>\n",
              "      </button>\n",
              "      \n",
              "  <style>\n",
              "    .colab-df-container {\n",
              "      display:flex;\n",
              "      flex-wrap:wrap;\n",
              "      gap: 12px;\n",
              "    }\n",
              "\n",
              "    .colab-df-convert {\n",
              "      background-color: #E8F0FE;\n",
              "      border: none;\n",
              "      border-radius: 50%;\n",
              "      cursor: pointer;\n",
              "      display: none;\n",
              "      fill: #1967D2;\n",
              "      height: 32px;\n",
              "      padding: 0 0 0 0;\n",
              "      width: 32px;\n",
              "    }\n",
              "\n",
              "    .colab-df-convert:hover {\n",
              "      background-color: #E2EBFA;\n",
              "      box-shadow: 0px 1px 2px rgba(60, 64, 67, 0.3), 0px 1px 3px 1px rgba(60, 64, 67, 0.15);\n",
              "      fill: #174EA6;\n",
              "    }\n",
              "\n",
              "    [theme=dark] .colab-df-convert {\n",
              "      background-color: #3B4455;\n",
              "      fill: #D2E3FC;\n",
              "    }\n",
              "\n",
              "    [theme=dark] .colab-df-convert:hover {\n",
              "      background-color: #434B5C;\n",
              "      box-shadow: 0px 1px 3px 1px rgba(0, 0, 0, 0.15);\n",
              "      filter: drop-shadow(0px 1px 2px rgba(0, 0, 0, 0.3));\n",
              "      fill: #FFFFFF;\n",
              "    }\n",
              "  </style>\n",
              "\n",
              "      <script>\n",
              "        const buttonEl =\n",
              "          document.querySelector('#df-492a2672-aa89-4b8c-9149-d25b423660de button.colab-df-convert');\n",
              "        buttonEl.style.display =\n",
              "          google.colab.kernel.accessAllowed ? 'block' : 'none';\n",
              "\n",
              "        async function convertToInteractive(key) {\n",
              "          const element = document.querySelector('#df-492a2672-aa89-4b8c-9149-d25b423660de');\n",
              "          const dataTable =\n",
              "            await google.colab.kernel.invokeFunction('convertToInteractive',\n",
              "                                                     [key], {});\n",
              "          if (!dataTable) return;\n",
              "\n",
              "          const docLinkHtml = 'Like what you see? Visit the ' +\n",
              "            '<a target=\"_blank\" href=https://colab.research.google.com/notebooks/data_table.ipynb>data table notebook</a>'\n",
              "            + ' to learn more about interactive tables.';\n",
              "          element.innerHTML = '';\n",
              "          dataTable['output_type'] = 'display_data';\n",
              "          await google.colab.output.renderOutput(dataTable, element);\n",
              "          const docLink = document.createElement('div');\n",
              "          docLink.innerHTML = docLinkHtml;\n",
              "          element.appendChild(docLink);\n",
              "        }\n",
              "      </script>\n",
              "    </div>\n",
              "  </div>\n",
              "  "
            ],
            "text/plain": [
              "             집행금액\n",
              "집행연도             \n",
              "2017   9076941387\n",
              "2018   9937556542\n",
              "2019  10532330632"
            ]
          },
          "metadata": {},
          "execution_count": 29
        }
      ]
    },
    {
      "cell_type": "markdown",
      "metadata": {
        "id": "SzZNYH4RYhoI"
      },
      "source": [
        "* 막대그래프 시각화"
      ]
    },
    {
      "cell_type": "code",
      "metadata": {
        "id": "Uw5kB54iLDCr",
        "colab": {
          "base_uri": "https://localhost:8080/",
          "height": 451
        },
        "outputId": "3af64061-b023-4f86-9807-469a2504b5e8"
      },
      "source": [
        "(year_total/100000000).plot.bar(rot = 25, figsize = (10, 7))\n",
        "plt.ylabel('집행금액(억원)')\n",
        "plt.show()"
      ],
      "execution_count": null,
      "outputs": [
        {
          "output_type": "display_data",
          "data": {
            "image/png": "[encoded data removed]",
            "text/plain": [
              "<Figure size 720x504 with 1 Axes>"
            ]
          },
          "metadata": {
            "needs_background": "light"
          }
        }
      ]
    },
    {
      "cell_type": "markdown",
      "metadata": {
        "id": "xdPtHPkUR0FS"
      },
      "source": [
        "> ## 3) 월별 집행금액\n",
        "\n",
        "* 월별 .pivot_table( )"
      ]
    },
    {
      "cell_type": "code",
      "metadata": {
        "id": "lPrOsweWR-bX",
        "colab": {
          "base_uri": "https://localhost:8080/",
          "height": 457
        },
        "outputId": "4ce05de6-0263-4b22-a016-385268197936"
      },
      "source": [
        "month_total = pd.pivot_table(df_expense_all, \n",
        "                             index = ['집행월'], \n",
        "                             values = ['집행금액'], \n",
        "                             aggfunc = sum)\n",
        "\n",
        "month_total"
      ],
      "execution_count": null,
      "outputs": [
        {
          "output_type": "execute_result",
          "data": {
            "text/html": [
              "\n",
              "  <div id=\"df-f8d3d2f2-6be4-48a4-95c6-ce8e1b0ddb4a\">\n",
              "    <div class=\"colab-df-container\">\n",
              "      <div>\n",
              "<style scoped>\n",
              "    .dataframe tbody tr th:only-of-type {\n",
              "        vertical-align: middle;\n",
              "    }\n",
              "\n",
              "    .dataframe tbody tr th {\n",
              "        vertical-align: top;\n",
              "    }\n",
              "\n",
              "    .dataframe thead th {\n",
              "        text-align: right;\n",
              "    }\n",
              "</style>\n",
              "<table border=\"1\" class=\"dataframe\">\n",
              "  <thead>\n",
              "    <tr style=\"text-align: right;\">\n",
              "      <th></th>\n",
              "      <th>집행금액</th>\n",
              "    </tr>\n",
              "    <tr>\n",
              "      <th>집행월</th>\n",
              "      <th></th>\n",
              "    </tr>\n",
              "  </thead>\n",
              "  <tbody>\n",
              "    <tr>\n",
              "      <th>1</th>\n",
              "      <td>2328469179</td>\n",
              "    </tr>\n",
              "    <tr>\n",
              "      <th>2</th>\n",
              "      <td>2250971737</td>\n",
              "    </tr>\n",
              "    <tr>\n",
              "      <th>3</th>\n",
              "      <td>2314589911</td>\n",
              "    </tr>\n",
              "    <tr>\n",
              "      <th>4</th>\n",
              "      <td>2153704599</td>\n",
              "    </tr>\n",
              "    <tr>\n",
              "      <th>5</th>\n",
              "      <td>2063883588</td>\n",
              "    </tr>\n",
              "    <tr>\n",
              "      <th>6</th>\n",
              "      <td>2224855495</td>\n",
              "    </tr>\n",
              "    <tr>\n",
              "      <th>7</th>\n",
              "      <td>2372256669</td>\n",
              "    </tr>\n",
              "    <tr>\n",
              "      <th>8</th>\n",
              "      <td>2153716469</td>\n",
              "    </tr>\n",
              "    <tr>\n",
              "      <th>9</th>\n",
              "      <td>2417217365</td>\n",
              "    </tr>\n",
              "    <tr>\n",
              "      <th>10</th>\n",
              "      <td>2326108698</td>\n",
              "    </tr>\n",
              "    <tr>\n",
              "      <th>11</th>\n",
              "      <td>2719921484</td>\n",
              "    </tr>\n",
              "    <tr>\n",
              "      <th>12</th>\n",
              "      <td>4221133367</td>\n",
              "    </tr>\n",
              "  </tbody>\n",
              "</table>\n",
              "</div>\n",
              "      <button class=\"colab-df-convert\" onclick=\"convertToInteractive('df-f8d3d2f2-6be4-48a4-95c6-ce8e1b0ddb4a')\"\n",
              "              title=\"Convert this dataframe to an interactive table.\"\n",
              "              style=\"display:none;\">\n",
              "        \n",
              "  <svg xmlns=\"http://www.w3.org/2000/svg\" height=\"24px\"viewBox=\"0 0 24 24\"\n",
              "       width=\"24px\">\n",
              "    <path d=\"M0 0h24v24H0V0z\" fill=\"none\"/>\n",
              "    <path d=\"M18.56 5.44l.94 2.06.94-2.06 2.06-.94-2.06-.94-.94-2.06-.94 2.06-2.06.94zm-11 1L8.5 8.5l.94-2.06 2.06-.94-2.06-.94L8.5 2.5l-.94 2.06-2.06.94zm10 10l.94 2.06.94-2.06 2.06-.94-2.06-.94-.94-2.06-.94 2.06-2.06.94z\"/><path d=\"M17.41 7.96l-1.37-1.37c-.4-.4-.92-.59-1.43-.59-.52 0-1.04.2-1.43.59L10.3 9.45l-7.72 7.72c-.78.78-.78 2.05 0 2.83L4 21.41c.39.39.9.59 1.41.59.51 0 1.02-.2 1.41-.59l7.78-7.78 2.81-2.81c.8-.78.8-2.07 0-2.86zM5.41 20L4 18.59l7.72-7.72 1.47 1.35L5.41 20z\"/>\n",
              "  </svg>\n",
              "      </button>\n",
              "      \n",
              "  <style>\n",
              "    .colab-df-container {\n",
              "      display:flex;\n",
              "      flex-wrap:wrap;\n",
              "      gap: 12px;\n",
              "    }\n",
              "\n",
              "    .colab-df-convert {\n",
              "      background-color: #E8F0FE;\n",
              "      border: none;\n",
              "      border-radius: 50%;\n",
              "      cursor: pointer;\n",
              "      display: none;\n",
              "      fill: #1967D2;\n",
              "      height: 32px;\n",
              "      padding: 0 0 0 0;\n",
              "      width: 32px;\n",
              "    }\n",
              "\n",
              "    .colab-df-convert:hover {\n",
              "      background-color: #E2EBFA;\n",
              "      box-shadow: 0px 1px 2px rgba(60, 64, 67, 0.3), 0px 1px 3px 1px rgba(60, 64, 67, 0.15);\n",
              "      fill: #174EA6;\n",
              "    }\n",
              "\n",
              "    [theme=dark] .colab-df-convert {\n",
              "      background-color: #3B4455;\n",
              "      fill: #D2E3FC;\n",
              "    }\n",
              "\n",
              "    [theme=dark] .colab-df-convert:hover {\n",
              "      background-color: #434B5C;\n",
              "      box-shadow: 0px 1px 3px 1px rgba(0, 0, 0, 0.15);\n",
              "      filter: drop-shadow(0px 1px 2px rgba(0, 0, 0, 0.3));\n",
              "      fill: #FFFFFF;\n",
              "    }\n",
              "  </style>\n",
              "\n",
              "      <script>\n",
              "        const buttonEl =\n",
              "          document.querySelector('#df-f8d3d2f2-6be4-48a4-95c6-ce8e1b0ddb4a button.colab-df-convert');\n",
              "        buttonEl.style.display =\n",
              "          google.colab.kernel.accessAllowed ? 'block' : 'none';\n",
              "\n",
              "        async function convertToInteractive(key) {\n",
              "          const element = document.querySelector('#df-f8d3d2f2-6be4-48a4-95c6-ce8e1b0ddb4a');\n",
              "          const dataTable =\n",
              "            await google.colab.kernel.invokeFunction('convertToInteractive',\n",
              "                                                     [key], {});\n",
              "          if (!dataTable) return;\n",
              "\n",
              "          const docLinkHtml = 'Like what you see? Visit the ' +\n",
              "            '<a target=\"_blank\" href=https://colab.research.google.com/notebooks/data_table.ipynb>data table notebook</a>'\n",
              "            + ' to learn more about interactive tables.';\n",
              "          element.innerHTML = '';\n",
              "          dataTable['output_type'] = 'display_data';\n",
              "          await google.colab.output.renderOutput(dataTable, element);\n",
              "          const docLink = document.createElement('div');\n",
              "          docLink.innerHTML = docLinkHtml;\n",
              "          element.appendChild(docLink);\n",
              "        }\n",
              "      </script>\n",
              "    </div>\n",
              "  </div>\n",
              "  "
            ],
            "text/plain": [
              "           집행금액\n",
              "집행월            \n",
              "1    2328469179\n",
              "2    2250971737\n",
              "3    2314589911\n",
              "4    2153704599\n",
              "5    2063883588\n",
              "6    2224855495\n",
              "7    2372256669\n",
              "8    2153716469\n",
              "9    2417217365\n",
              "10   2326108698\n",
              "11   2719921484\n",
              "12   4221133367"
            ]
          },
          "metadata": {},
          "execution_count": 31
        }
      ]
    },
    {
      "cell_type": "markdown",
      "metadata": {
        "id": "Qn8w78TyYrN-"
      },
      "source": [
        "* 연별/월별 .pivot_table( )"
      ]
    },
    {
      "cell_type": "code",
      "metadata": {
        "id": "6Gw6cs0iMEB5",
        "colab": {
          "base_uri": "https://localhost:8080/",
          "height": 488
        },
        "outputId": "bc287480-a225-4c4c-b9e0-e5e84b8cf90b"
      },
      "source": [
        "year_month_total = pd.pivot_table(df_expense_all, \n",
        "                                  index = ['집행월'], \n",
        "                                  columns = ['집행연도'], \n",
        "                                  values = ['집행금액'], \n",
        "                                  aggfunc = sum)\n",
        "\n",
        "year_month_total"
      ],
      "execution_count": null,
      "outputs": [
        {
          "output_type": "execute_result",
          "data": {
            "text/html": [
              "\n",
              "  <div id=\"df-06c0aefd-e4df-4eee-adcc-643ce102b74d\">\n",
              "    <div class=\"colab-df-container\">\n",
              "      <div>\n",
              "<style scoped>\n",
              "    .dataframe tbody tr th:only-of-type {\n",
              "        vertical-align: middle;\n",
              "    }\n",
              "\n",
              "    .dataframe tbody tr th {\n",
              "        vertical-align: top;\n",
              "    }\n",
              "\n",
              "    .dataframe thead tr th {\n",
              "        text-align: left;\n",
              "    }\n",
              "\n",
              "    .dataframe thead tr:last-of-type th {\n",
              "        text-align: right;\n",
              "    }\n",
              "</style>\n",
              "<table border=\"1\" class=\"dataframe\">\n",
              "  <thead>\n",
              "    <tr>\n",
              "      <th></th>\n",
              "      <th colspan=\"3\" halign=\"left\">집행금액</th>\n",
              "    </tr>\n",
              "    <tr>\n",
              "      <th>집행연도</th>\n",
              "      <th>2017</th>\n",
              "      <th>2018</th>\n",
              "      <th>2019</th>\n",
              "    </tr>\n",
              "    <tr>\n",
              "      <th>집행월</th>\n",
              "      <th></th>\n",
              "      <th></th>\n",
              "      <th></th>\n",
              "    </tr>\n",
              "  </thead>\n",
              "  <tbody>\n",
              "    <tr>\n",
              "      <th>1</th>\n",
              "      <td>710368860</td>\n",
              "      <td>735587570</td>\n",
              "      <td>882512749</td>\n",
              "    </tr>\n",
              "    <tr>\n",
              "      <th>2</th>\n",
              "      <td>712679864</td>\n",
              "      <td>769360005</td>\n",
              "      <td>768931868</td>\n",
              "    </tr>\n",
              "    <tr>\n",
              "      <th>3</th>\n",
              "      <td>737250454</td>\n",
              "      <td>761059010</td>\n",
              "      <td>816280447</td>\n",
              "    </tr>\n",
              "    <tr>\n",
              "      <th>4</th>\n",
              "      <td>635265805</td>\n",
              "      <td>703781418</td>\n",
              "      <td>814657376</td>\n",
              "    </tr>\n",
              "    <tr>\n",
              "      <th>5</th>\n",
              "      <td>647582378</td>\n",
              "      <td>669044701</td>\n",
              "      <td>747256509</td>\n",
              "    </tr>\n",
              "    <tr>\n",
              "      <th>6</th>\n",
              "      <td>758257342</td>\n",
              "      <td>690652154</td>\n",
              "      <td>775945999</td>\n",
              "    </tr>\n",
              "    <tr>\n",
              "      <th>7</th>\n",
              "      <td>701604626</td>\n",
              "      <td>788926477</td>\n",
              "      <td>881725566</td>\n",
              "    </tr>\n",
              "    <tr>\n",
              "      <th>8</th>\n",
              "      <td>661174850</td>\n",
              "      <td>730290532</td>\n",
              "      <td>762251087</td>\n",
              "    </tr>\n",
              "    <tr>\n",
              "      <th>9</th>\n",
              "      <td>806170700</td>\n",
              "      <td>769404957</td>\n",
              "      <td>841641708</td>\n",
              "    </tr>\n",
              "    <tr>\n",
              "      <th>10</th>\n",
              "      <td>637219943</td>\n",
              "      <td>827022975</td>\n",
              "      <td>861865780</td>\n",
              "    </tr>\n",
              "    <tr>\n",
              "      <th>11</th>\n",
              "      <td>843619171</td>\n",
              "      <td>960310221</td>\n",
              "      <td>915992092</td>\n",
              "    </tr>\n",
              "    <tr>\n",
              "      <th>12</th>\n",
              "      <td>1225747394</td>\n",
              "      <td>1532116522</td>\n",
              "      <td>1463269451</td>\n",
              "    </tr>\n",
              "  </tbody>\n",
              "</table>\n",
              "</div>\n",
              "      <button class=\"colab-df-convert\" onclick=\"convertToInteractive('df-06c0aefd-e4df-4eee-adcc-643ce102b74d')\"\n",
              "              title=\"Convert this dataframe to an interactive table.\"\n",
              "              style=\"display:none;\">\n",
              "        \n",
              "  <svg xmlns=\"http://www.w3.org/2000/svg\" height=\"24px\"viewBox=\"0 0 24 24\"\n",
              "       width=\"24px\">\n",
              "    <path d=\"M0 0h24v24H0V0z\" fill=\"none\"/>\n",
              "    <path d=\"M18.56 5.44l.94 2.06.94-2.06 2.06-.94-2.06-.94-.94-2.06-.94 2.06-2.06.94zm-11 1L8.5 8.5l.94-2.06 2.06-.94-2.06-.94L8.5 2.5l-.94 2.06-2.06.94zm10 10l.94 2.06.94-2.06 2.06-.94-2.06-.94-.94-2.06-.94 2.06-2.06.94z\"/><path d=\"M17.41 7.96l-1.37-1.37c-.4-.4-.92-.59-1.43-.59-.52 0-1.04.2-1.43.59L10.3 9.45l-7.72 7.72c-.78.78-.78 2.05 0 2.83L4 21.41c.39.39.9.59 1.41.59.51 0 1.02-.2 1.41-.59l7.78-7.78 2.81-2.81c.8-.78.8-2.07 0-2.86zM5.41 20L4 18.59l7.72-7.72 1.47 1.35L5.41 20z\"/>\n",
              "  </svg>\n",
              "      </button>\n",
              "      \n",
              "  <style>\n",
              "    .colab-df-container {\n",
              "      display:flex;\n",
              "      flex-wrap:wrap;\n",
              "      gap: 12px;\n",
              "    }\n",
              "\n",
              "    .colab-df-convert {\n",
              "      background-color: #E8F0FE;\n",
              "      border: none;\n",
              "      border-radius: 50%;\n",
              "      cursor: pointer;\n",
              "      display: none;\n",
              "      fill: #1967D2;\n",
              "      height: 32px;\n",
              "      padding: 0 0 0 0;\n",
              "      width: 32px;\n",
              "    }\n",
              "\n",
              "    .colab-df-convert:hover {\n",
              "      background-color: #E2EBFA;\n",
              "      box-shadow: 0px 1px 2px rgba(60, 64, 67, 0.3), 0px 1px 3px 1px rgba(60, 64, 67, 0.15);\n",
              "      fill: #174EA6;\n",
              "    }\n",
              "\n",
              "    [theme=dark] .colab-df-convert {\n",
              "      background-color: #3B4455;\n",
              "      fill: #D2E3FC;\n",
              "    }\n",
              "\n",
              "    [theme=dark] .colab-df-convert:hover {\n",
              "      background-color: #434B5C;\n",
              "      box-shadow: 0px 1px 3px 1px rgba(0, 0, 0, 0.15);\n",
              "      filter: drop-shadow(0px 1px 2px rgba(0, 0, 0, 0.3));\n",
              "      fill: #FFFFFF;\n",
              "    }\n",
              "  </style>\n",
              "\n",
              "      <script>\n",
              "        const buttonEl =\n",
              "          document.querySelector('#df-06c0aefd-e4df-4eee-adcc-643ce102b74d button.colab-df-convert');\n",
              "        buttonEl.style.display =\n",
              "          google.colab.kernel.accessAllowed ? 'block' : 'none';\n",
              "\n",
              "        async function convertToInteractive(key) {\n",
              "          const element = document.querySelector('#df-06c0aefd-e4df-4eee-adcc-643ce102b74d');\n",
              "          const dataTable =\n",
              "            await google.colab.kernel.invokeFunction('convertToInteractive',\n",
              "                                                     [key], {});\n",
              "          if (!dataTable) return;\n",
              "\n",
              "          const docLinkHtml = 'Like what you see? Visit the ' +\n",
              "            '<a target=\"_blank\" href=https://colab.research.google.com/notebooks/data_table.ipynb>data table notebook</a>'\n",
              "            + ' to learn more about interactive tables.';\n",
              "          element.innerHTML = '';\n",
              "          dataTable['output_type'] = 'display_data';\n",
              "          await google.colab.output.renderOutput(dataTable, element);\n",
              "          const docLink = document.createElement('div');\n",
              "          docLink.innerHTML = docLinkHtml;\n",
              "          element.appendChild(docLink);\n",
              "        }\n",
              "      </script>\n",
              "    </div>\n",
              "  </div>\n",
              "  "
            ],
            "text/plain": [
              "            집행금액                        \n",
              "집행연도        2017        2018        2019\n",
              "집행월                                     \n",
              "1      710368860   735587570   882512749\n",
              "2      712679864   769360005   768931868\n",
              "3      737250454   761059010   816280447\n",
              "4      635265805   703781418   814657376\n",
              "5      647582378   669044701   747256509\n",
              "6      758257342   690652154   775945999\n",
              "7      701604626   788926477   881725566\n",
              "8      661174850   730290532   762251087\n",
              "9      806170700   769404957   841641708\n",
              "10     637219943   827022975   861865780\n",
              "11     843619171   960310221   915992092\n",
              "12    1225747394  1532116522  1463269451"
            ]
          },
          "metadata": {},
          "execution_count": 32
        }
      ]
    },
    {
      "cell_type": "markdown",
      "metadata": {
        "id": "NOjbrw1hY2my"
      },
      "source": [
        "* 막대그래프 시각화"
      ]
    },
    {
      "cell_type": "code",
      "metadata": {
        "id": "Rzt2SlIMMOIq",
        "colab": {
          "base_uri": "https://localhost:8080/",
          "height": 456
        },
        "outputId": "4cafcb9e-bb1a-41a4-8acb-18922b2916d0"
      },
      "source": [
        "(year_month_total/100000000).plot.bar(rot = 0, figsize = (10, 7))\n",
        "plt.ylabel('집행금액(억원)')\n",
        "plt.title('업무추진비의 월별 집행금액')\n",
        "plt.legend(['2017년', '2018년', '2019년'])\n",
        "plt.show()"
      ],
      "execution_count": null,
      "outputs": [
        {
          "output_type": "display_data",
          "data": {
            "image/png": "[encoded data removed]",
            "text/plain": [
              "<Figure size 720x504 with 1 Axes>"
            ]
          },
          "metadata": {
            "needs_background": "light"
          }
        }
      ]
    },
    {
      "cell_type": "markdown",
      "metadata": {
        "id": "Bmj-nvVFSZQL"
      },
      "source": [
        "> ## 4) 부서별 집행금액\n",
        "\n",
        "* 부서별_level1 .pivot_table( )"
      ]
    },
    {
      "cell_type": "code",
      "metadata": {
        "id": "v7yJLgV7S2JK",
        "colab": {
          "base_uri": "https://localhost:8080/",
          "height": 206
        },
        "outputId": "fe5a13ed-7806-4bb2-b62d-a5307cc56063"
      },
      "source": [
        "dept_level1_total = pd.pivot_table(df_expense_all, \n",
        "                                   index = ['부서레벨1'], \n",
        "                                   values = ['집행금액'], \n",
        "                                   aggfunc = sum)\n",
        "\n",
        "dept_level1_total"
      ],
      "execution_count": null,
      "outputs": [
        {
          "output_type": "execute_result",
          "data": {
            "text/html": [
              "\n",
              "  <div id=\"df-6122bbc6-31bd-4ad1-b4d9-b1ce7c772ef0\">\n",
              "    <div class=\"colab-df-container\">\n",
              "      <div>\n",
              "<style scoped>\n",
              "    .dataframe tbody tr th:only-of-type {\n",
              "        vertical-align: middle;\n",
              "    }\n",
              "\n",
              "    .dataframe tbody tr th {\n",
              "        vertical-align: top;\n",
              "    }\n",
              "\n",
              "    .dataframe thead th {\n",
              "        text-align: right;\n",
              "    }\n",
              "</style>\n",
              "<table border=\"1\" class=\"dataframe\">\n",
              "  <thead>\n",
              "    <tr style=\"text-align: right;\">\n",
              "      <th></th>\n",
              "      <th>집행금액</th>\n",
              "    </tr>\n",
              "    <tr>\n",
              "      <th>부서레벨1</th>\n",
              "      <th></th>\n",
              "    </tr>\n",
              "  </thead>\n",
              "  <tbody>\n",
              "    <tr>\n",
              "      <th>사업소</th>\n",
              "      <td>6552128899</td>\n",
              "    </tr>\n",
              "    <tr>\n",
              "      <th>서울시본청</th>\n",
              "      <td>16606242519</td>\n",
              "    </tr>\n",
              "    <tr>\n",
              "      <th>소방재난본부(소방서)</th>\n",
              "      <td>5147645293</td>\n",
              "    </tr>\n",
              "    <tr>\n",
              "      <th>의회사무처</th>\n",
              "      <td>1240811850</td>\n",
              "    </tr>\n",
              "  </tbody>\n",
              "</table>\n",
              "</div>\n",
              "      <button class=\"colab-df-convert\" onclick=\"convertToInteractive('df-6122bbc6-31bd-4ad1-b4d9-b1ce7c772ef0')\"\n",
              "              title=\"Convert this dataframe to an interactive table.\"\n",
              "              style=\"display:none;\">\n",
              "        \n",
              "  <svg xmlns=\"http://www.w3.org/2000/svg\" height=\"24px\"viewBox=\"0 0 24 24\"\n",
              "       width=\"24px\">\n",
              "    <path d=\"M0 0h24v24H0V0z\" fill=\"none\"/>\n",
              "    <path d=\"M18.56 5.44l.94 2.06.94-2.06 2.06-.94-2.06-.94-.94-2.06-.94 2.06-2.06.94zm-11 1L8.5 8.5l.94-2.06 2.06-.94-2.06-.94L8.5 2.5l-.94 2.06-2.06.94zm10 10l.94 2.06.94-2.06 2.06-.94-2.06-.94-.94-2.06-.94 2.06-2.06.94z\"/><path d=\"M17.41 7.96l-1.37-1.37c-.4-.4-.92-.59-1.43-.59-.52 0-1.04.2-1.43.59L10.3 9.45l-7.72 7.72c-.78.78-.78 2.05 0 2.83L4 21.41c.39.39.9.59 1.41.59.51 0 1.02-.2 1.41-.59l7.78-7.78 2.81-2.81c.8-.78.8-2.07 0-2.86zM5.41 20L4 18.59l7.72-7.72 1.47 1.35L5.41 20z\"/>\n",
              "  </svg>\n",
              "      </button>\n",
              "      \n",
              "  <style>\n",
              "    .colab-df-container {\n",
              "      display:flex;\n",
              "      flex-wrap:wrap;\n",
              "      gap: 12px;\n",
              "    }\n",
              "\n",
              "    .colab-df-convert {\n",
              "      background-color: #E8F0FE;\n",
              "      border: none;\n",
              "      border-radius: 50%;\n",
              "      cursor: pointer;\n",
              "      display: none;\n",
              "      fill: #1967D2;\n",
              "      height: 32px;\n",
              "      padding: 0 0 0 0;\n",
              "      width: 32px;\n",
              "    }\n",
              "\n",
              "    .colab-df-convert:hover {\n",
              "      background-color: #E2EBFA;\n",
              "      box-shadow: 0px 1px 2px rgba(60, 64, 67, 0.3), 0px 1px 3px 1px rgba(60, 64, 67, 0.15);\n",
              "      fill: #174EA6;\n",
              "    }\n",
              "\n",
              "    [theme=dark] .colab-df-convert {\n",
              "      background-color: #3B4455;\n",
              "      fill: #D2E3FC;\n",
              "    }\n",
              "\n",
              "    [theme=dark] .colab-df-convert:hover {\n",
              "      background-color: #434B5C;\n",
              "      box-shadow: 0px 1px 3px 1px rgba(0, 0, 0, 0.15);\n",
              "      filter: drop-shadow(0px 1px 2px rgba(0, 0, 0, 0.3));\n",
              "      fill: #FFFFFF;\n",
              "    }\n",
              "  </style>\n",
              "\n",
              "      <script>\n",
              "        const buttonEl =\n",
              "          document.querySelector('#df-6122bbc6-31bd-4ad1-b4d9-b1ce7c772ef0 button.colab-df-convert');\n",
              "        buttonEl.style.display =\n",
              "          google.colab.kernel.accessAllowed ? 'block' : 'none';\n",
              "\n",
              "        async function convertToInteractive(key) {\n",
              "          const element = document.querySelector('#df-6122bbc6-31bd-4ad1-b4d9-b1ce7c772ef0');\n",
              "          const dataTable =\n",
              "            await google.colab.kernel.invokeFunction('convertToInteractive',\n",
              "                                                     [key], {});\n",
              "          if (!dataTable) return;\n",
              "\n",
              "          const docLinkHtml = 'Like what you see? Visit the ' +\n",
              "            '<a target=\"_blank\" href=https://colab.research.google.com/notebooks/data_table.ipynb>data table notebook</a>'\n",
              "            + ' to learn more about interactive tables.';\n",
              "          element.innerHTML = '';\n",
              "          dataTable['output_type'] = 'display_data';\n",
              "          await google.colab.output.renderOutput(dataTable, element);\n",
              "          const docLink = document.createElement('div');\n",
              "          docLink.innerHTML = docLinkHtml;\n",
              "          element.appendChild(docLink);\n",
              "        }\n",
              "      </script>\n",
              "    </div>\n",
              "  </div>\n",
              "  "
            ],
            "text/plain": [
              "                    집행금액\n",
              "부서레벨1                   \n",
              "사업소           6552128899\n",
              "서울시본청        16606242519\n",
              "소방재난본부(소방서)   5147645293\n",
              "의회사무처         1240811850"
            ]
          },
          "metadata": {},
          "execution_count": 34
        }
      ]
    },
    {
      "cell_type": "markdown",
      "metadata": {
        "id": "v9ldThBxZDd_"
      },
      "source": [
        "* 부서별_level2 .pivot_table( )"
      ]
    },
    {
      "cell_type": "code",
      "metadata": {
        "id": "d9uyT9g_QDHz",
        "colab": {
          "base_uri": "https://localhost:8080/",
          "height": 455
        },
        "outputId": "c06eecd7-2d97-4341-9b02-2e8047b2433b"
      },
      "source": [
        "dept_level2_total = pd.pivot_table(df_expense_all, \n",
        "                                   index = ['부서레벨2'], \n",
        "                                   values = ['집행금액'], \n",
        "                                   aggfunc = sum)\n",
        "\n",
        "dept_level2_total"
      ],
      "execution_count": null,
      "outputs": [
        {
          "output_type": "execute_result",
          "data": {
            "text/html": [
              "\n",
              "  <div id=\"df-c3f1b0ac-b731-426d-816a-2d390c267193\">\n",
              "    <div class=\"colab-df-container\">\n",
              "      <div>\n",
              "<style scoped>\n",
              "    .dataframe tbody tr th:only-of-type {\n",
              "        vertical-align: middle;\n",
              "    }\n",
              "\n",
              "    .dataframe tbody tr th {\n",
              "        vertical-align: top;\n",
              "    }\n",
              "\n",
              "    .dataframe thead th {\n",
              "        text-align: right;\n",
              "    }\n",
              "</style>\n",
              "<table border=\"1\" class=\"dataframe\">\n",
              "  <thead>\n",
              "    <tr style=\"text-align: right;\">\n",
              "      <th></th>\n",
              "      <th>집행금액</th>\n",
              "    </tr>\n",
              "    <tr>\n",
              "      <th>부서레벨2</th>\n",
              "      <th></th>\n",
              "    </tr>\n",
              "  </thead>\n",
              "  <tbody>\n",
              "    <tr>\n",
              "      <th>119특수구조단</th>\n",
              "      <td>119225100</td>\n",
              "    </tr>\n",
              "    <tr>\n",
              "      <th>감사위원회</th>\n",
              "      <td>343281170</td>\n",
              "    </tr>\n",
              "    <tr>\n",
              "      <th>강남소방서</th>\n",
              "      <td>229660520</td>\n",
              "    </tr>\n",
              "    <tr>\n",
              "      <th>강동소방서</th>\n",
              "      <td>188773330</td>\n",
              "    </tr>\n",
              "    <tr>\n",
              "      <th>강북소방서</th>\n",
              "      <td>167700000</td>\n",
              "    </tr>\n",
              "    <tr>\n",
              "      <th>...</th>\n",
              "      <td>...</td>\n",
              "    </tr>\n",
              "    <tr>\n",
              "      <th>행정2부시장</th>\n",
              "      <td>522277598</td>\n",
              "    </tr>\n",
              "    <tr>\n",
              "      <th>행정국</th>\n",
              "      <td>1320839804</td>\n",
              "    </tr>\n",
              "    <tr>\n",
              "      <th>행정자치위원회</th>\n",
              "      <td>57397750</td>\n",
              "    </tr>\n",
              "    <tr>\n",
              "      <th>행정자치전문위원실</th>\n",
              "      <td>38221340</td>\n",
              "    </tr>\n",
              "    <tr>\n",
              "      <th>환경수자원전문위원실</th>\n",
              "      <td>24264210</td>\n",
              "    </tr>\n",
              "  </tbody>\n",
              "</table>\n",
              "<p>137 rows × 1 columns</p>\n",
              "</div>\n",
              "      <button class=\"colab-df-convert\" onclick=\"convertToInteractive('df-c3f1b0ac-b731-426d-816a-2d390c267193')\"\n",
              "              title=\"Convert this dataframe to an interactive table.\"\n",
              "              style=\"display:none;\">\n",
              "        \n",
              "  <svg xmlns=\"http://www.w3.org/2000/svg\" height=\"24px\"viewBox=\"0 0 24 24\"\n",
              "       width=\"24px\">\n",
              "    <path d=\"M0 0h24v24H0V0z\" fill=\"none\"/>\n",
              "    <path d=\"M18.56 5.44l.94 2.06.94-2.06 2.06-.94-2.06-.94-.94-2.06-.94 2.06-2.06.94zm-11 1L8.5 8.5l.94-2.06 2.06-.94-2.06-.94L8.5 2.5l-.94 2.06-2.06.94zm10 10l.94 2.06.94-2.06 2.06-.94-2.06-.94-.94-2.06-.94 2.06-2.06.94z\"/><path d=\"M17.41 7.96l-1.37-1.37c-.4-.4-.92-.59-1.43-.59-.52 0-1.04.2-1.43.59L10.3 9.45l-7.72 7.72c-.78.78-.78 2.05 0 2.83L4 21.41c.39.39.9.59 1.41.59.51 0 1.02-.2 1.41-.59l7.78-7.78 2.81-2.81c.8-.78.8-2.07 0-2.86zM5.41 20L4 18.59l7.72-7.72 1.47 1.35L5.41 20z\"/>\n",
              "  </svg>\n",
              "      </button>\n",
              "      \n",
              "  <style>\n",
              "    .colab-df-container {\n",
              "      display:flex;\n",
              "      flex-wrap:wrap;\n",
              "      gap: 12px;\n",
              "    }\n",
              "\n",
              "    .colab-df-convert {\n",
              "      background-color: #E8F0FE;\n",
              "      border: none;\n",
              "      border-radius: 50%;\n",
              "      cursor: pointer;\n",
              "      display: none;\n",
              "      fill: #1967D2;\n",
              "      height: 32px;\n",
              "      padding: 0 0 0 0;\n",
              "      width: 32px;\n",
              "    }\n",
              "\n",
              "    .colab-df-convert:hover {\n",
              "      background-color: #E2EBFA;\n",
              "      box-shadow: 0px 1px 2px rgba(60, 64, 67, 0.3), 0px 1px 3px 1px rgba(60, 64, 67, 0.15);\n",
              "      fill: #174EA6;\n",
              "    }\n",
              "\n",
              "    [theme=dark] .colab-df-convert {\n",
              "      background-color: #3B4455;\n",
              "      fill: #D2E3FC;\n",
              "    }\n",
              "\n",
              "    [theme=dark] .colab-df-convert:hover {\n",
              "      background-color: #434B5C;\n",
              "      box-shadow: 0px 1px 3px 1px rgba(0, 0, 0, 0.15);\n",
              "      filter: drop-shadow(0px 1px 2px rgba(0, 0, 0, 0.3));\n",
              "      fill: #FFFFFF;\n",
              "    }\n",
              "  </style>\n",
              "\n",
              "      <script>\n",
              "        const buttonEl =\n",
              "          document.querySelector('#df-c3f1b0ac-b731-426d-816a-2d390c267193 button.colab-df-convert');\n",
              "        buttonEl.style.display =\n",
              "          google.colab.kernel.accessAllowed ? 'block' : 'none';\n",
              "\n",
              "        async function convertToInteractive(key) {\n",
              "          const element = document.querySelector('#df-c3f1b0ac-b731-426d-816a-2d390c267193');\n",
              "          const dataTable =\n",
              "            await google.colab.kernel.invokeFunction('convertToInteractive',\n",
              "                                                     [key], {});\n",
              "          if (!dataTable) return;\n",
              "\n",
              "          const docLinkHtml = 'Like what you see? Visit the ' +\n",
              "            '<a target=\"_blank\" href=https://colab.research.google.com/notebooks/data_table.ipynb>data table notebook</a>'\n",
              "            + ' to learn more about interactive tables.';\n",
              "          element.innerHTML = '';\n",
              "          dataTable['output_type'] = 'display_data';\n",
              "          await google.colab.output.renderOutput(dataTable, element);\n",
              "          const docLink = document.createElement('div');\n",
              "          docLink.innerHTML = docLinkHtml;\n",
              "          element.appendChild(docLink);\n",
              "        }\n",
              "      </script>\n",
              "    </div>\n",
              "  </div>\n",
              "  "
            ],
            "text/plain": [
              "                  집행금액\n",
              "부서레벨2                 \n",
              "119특수구조단     119225100\n",
              "감사위원회        343281170\n",
              "강남소방서        229660520\n",
              "강동소방서        188773330\n",
              "강북소방서        167700000\n",
              "...                ...\n",
              "행정2부시장       522277598\n",
              "행정국         1320839804\n",
              "행정자치위원회       57397750\n",
              "행정자치전문위원실     38221340\n",
              "환경수자원전문위원실    24264210\n",
              "\n",
              "[137 rows x 1 columns]"
            ]
          },
          "metadata": {},
          "execution_count": 35
        }
      ]
    },
    {
      "cell_type": "markdown",
      "metadata": {
        "id": "2uMCo79bZGX1"
      },
      "source": [
        "* 집행금액별 오름차순 정렬"
      ]
    },
    {
      "cell_type": "code",
      "metadata": {
        "id": "a4aUCqEyQb7E",
        "colab": {
          "base_uri": "https://localhost:8080/",
          "height": 394
        },
        "outputId": "b4f516fe-0697-4a5f-b744-34f502c082c7"
      },
      "source": [
        "dept_level2_total_top10 = dept_level2_total.sort_values(by = ['집행금액'], ascending = False)[0:10]\n",
        "\n",
        "dept_level2_total_top10"
      ],
      "execution_count": null,
      "outputs": [
        {
          "output_type": "execute_result",
          "data": {
            "text/html": [
              "\n",
              "  <div id=\"df-4bc632e0-2c16-4b5d-9748-096a17864eb6\">\n",
              "    <div class=\"colab-df-container\">\n",
              "      <div>\n",
              "<style scoped>\n",
              "    .dataframe tbody tr th:only-of-type {\n",
              "        vertical-align: middle;\n",
              "    }\n",
              "\n",
              "    .dataframe tbody tr th {\n",
              "        vertical-align: top;\n",
              "    }\n",
              "\n",
              "    .dataframe thead th {\n",
              "        text-align: right;\n",
              "    }\n",
              "</style>\n",
              "<table border=\"1\" class=\"dataframe\">\n",
              "  <thead>\n",
              "    <tr style=\"text-align: right;\">\n",
              "      <th></th>\n",
              "      <th>집행금액</th>\n",
              "    </tr>\n",
              "    <tr>\n",
              "      <th>부서레벨2</th>\n",
              "      <th></th>\n",
              "    </tr>\n",
              "  </thead>\n",
              "  <tbody>\n",
              "    <tr>\n",
              "      <th>상수도사업본부</th>\n",
              "      <td>2156404778</td>\n",
              "    </tr>\n",
              "    <tr>\n",
              "      <th>기획조정실</th>\n",
              "      <td>1572753168</td>\n",
              "    </tr>\n",
              "    <tr>\n",
              "      <th>행정국</th>\n",
              "      <td>1320839804</td>\n",
              "    </tr>\n",
              "    <tr>\n",
              "      <th>서울특별시장</th>\n",
              "      <td>955448760</td>\n",
              "    </tr>\n",
              "    <tr>\n",
              "      <th>시민소통기획관</th>\n",
              "      <td>923338423</td>\n",
              "    </tr>\n",
              "    <tr>\n",
              "      <th>도시기반시설본부</th>\n",
              "      <td>620669144</td>\n",
              "    </tr>\n",
              "    <tr>\n",
              "      <th>정무부시장</th>\n",
              "      <td>581806882</td>\n",
              "    </tr>\n",
              "    <tr>\n",
              "      <th>행정1부시장</th>\n",
              "      <td>540457390</td>\n",
              "    </tr>\n",
              "    <tr>\n",
              "      <th>행정2부시장</th>\n",
              "      <td>522277598</td>\n",
              "    </tr>\n",
              "    <tr>\n",
              "      <th>기후환경본부</th>\n",
              "      <td>515222890</td>\n",
              "    </tr>\n",
              "  </tbody>\n",
              "</table>\n",
              "</div>\n",
              "      <button class=\"colab-df-convert\" onclick=\"convertToInteractive('df-4bc632e0-2c16-4b5d-9748-096a17864eb6')\"\n",
              "              title=\"Convert this dataframe to an interactive table.\"\n",
              "              style=\"display:none;\">\n",
              "        \n",
              "  <svg xmlns=\"http://www.w3.org/2000/svg\" height=\"24px\"viewBox=\"0 0 24 24\"\n",
              "       width=\"24px\">\n",
              "    <path d=\"M0 0h24v24H0V0z\" fill=\"none\"/>\n",
              "    <path d=\"M18.56 5.44l.94 2.06.94-2.06 2.06-.94-2.06-.94-.94-2.06-.94 2.06-2.06.94zm-11 1L8.5 8.5l.94-2.06 2.06-.94-2.06-.94L8.5 2.5l-.94 2.06-2.06.94zm10 10l.94 2.06.94-2.06 2.06-.94-2.06-.94-.94-2.06-.94 2.06-2.06.94z\"/><path d=\"M17.41 7.96l-1.37-1.37c-.4-.4-.92-.59-1.43-.59-.52 0-1.04.2-1.43.59L10.3 9.45l-7.72 7.72c-.78.78-.78 2.05 0 2.83L4 21.41c.39.39.9.59 1.41.59.51 0 1.02-.2 1.41-.59l7.78-7.78 2.81-2.81c.8-.78.8-2.07 0-2.86zM5.41 20L4 18.59l7.72-7.72 1.47 1.35L5.41 20z\"/>\n",
              "  </svg>\n",
              "      </button>\n",
              "      \n",
              "  <style>\n",
              "    .colab-df-container {\n",
              "      display:flex;\n",
              "      flex-wrap:wrap;\n",
              "      gap: 12px;\n",
              "    }\n",
              "\n",
              "    .colab-df-convert {\n",
              "      background-color: #E8F0FE;\n",
              "      border: none;\n",
              "      border-radius: 50%;\n",
              "      cursor: pointer;\n",
              "      display: none;\n",
              "      fill: #1967D2;\n",
              "      height: 32px;\n",
              "      padding: 0 0 0 0;\n",
              "      width: 32px;\n",
              "    }\n",
              "\n",
              "    .colab-df-convert:hover {\n",
              "      background-color: #E2EBFA;\n",
              "      box-shadow: 0px 1px 2px rgba(60, 64, 67, 0.3), 0px 1px 3px 1px rgba(60, 64, 67, 0.15);\n",
              "      fill: #174EA6;\n",
              "    }\n",
              "\n",
              "    [theme=dark] .colab-df-convert {\n",
              "      background-color: #3B4455;\n",
              "      fill: #D2E3FC;\n",
              "    }\n",
              "\n",
              "    [theme=dark] .colab-df-convert:hover {\n",
              "      background-color: #434B5C;\n",
              "      box-shadow: 0px 1px 3px 1px rgba(0, 0, 0, 0.15);\n",
              "      filter: drop-shadow(0px 1px 2px rgba(0, 0, 0, 0.3));\n",
              "      fill: #FFFFFF;\n",
              "    }\n",
              "  </style>\n",
              "\n",
              "      <script>\n",
              "        const buttonEl =\n",
              "          document.querySelector('#df-4bc632e0-2c16-4b5d-9748-096a17864eb6 button.colab-df-convert');\n",
              "        buttonEl.style.display =\n",
              "          google.colab.kernel.accessAllowed ? 'block' : 'none';\n",
              "\n",
              "        async function convertToInteractive(key) {\n",
              "          const element = document.querySelector('#df-4bc632e0-2c16-4b5d-9748-096a17864eb6');\n",
              "          const dataTable =\n",
              "            await google.colab.kernel.invokeFunction('convertToInteractive',\n",
              "                                                     [key], {});\n",
              "          if (!dataTable) return;\n",
              "\n",
              "          const docLinkHtml = 'Like what you see? Visit the ' +\n",
              "            '<a target=\"_blank\" href=https://colab.research.google.com/notebooks/data_table.ipynb>data table notebook</a>'\n",
              "            + ' to learn more about interactive tables.';\n",
              "          element.innerHTML = '';\n",
              "          dataTable['output_type'] = 'display_data';\n",
              "          await google.colab.output.renderOutput(dataTable, element);\n",
              "          const docLink = document.createElement('div');\n",
              "          docLink.innerHTML = docLinkHtml;\n",
              "          element.appendChild(docLink);\n",
              "        }\n",
              "      </script>\n",
              "    </div>\n",
              "  </div>\n",
              "  "
            ],
            "text/plain": [
              "                집행금액\n",
              "부서레벨2               \n",
              "상수도사업본부   2156404778\n",
              "기획조정실     1572753168\n",
              "행정국       1320839804\n",
              "서울특별시장     955448760\n",
              "시민소통기획관    923338423\n",
              "도시기반시설본부   620669144\n",
              "정무부시장      581806882\n",
              "행정1부시장     540457390\n",
              "행정2부시장     522277598\n",
              "기후환경본부     515222890"
            ]
          },
          "metadata": {},
          "execution_count": 36
        }
      ]
    },
    {
      "cell_type": "markdown",
      "metadata": {
        "id": "IlFUakUGZMEq"
      },
      "source": [
        "* 막대그래프 시각화"
      ]
    },
    {
      "cell_type": "code",
      "metadata": {
        "id": "R-BSjsyAQx_X",
        "colab": {
          "base_uri": "https://localhost:8080/",
          "height": 507
        },
        "outputId": "eb0e23db-cfd7-408d-8aaf-920c5167dce0"
      },
      "source": [
        "(dept_level2_total_top10/100000000).plot.bar(rot = 45, figsize = (10, 7))\n",
        "plt.ylabel('집행금액(억원)')\n",
        "plt.title('업무추진비 집행금액이 높은 상위 10개 부서')\n",
        "plt.show()"
      ],
      "execution_count": null,
      "outputs": [
        {
          "output_type": "display_data",
          "data": {
            "image/png": "[encoded data removed]",
            "text/plain": [
              "<Figure size 720x504 with 1 Axes>"
            ]
          },
          "metadata": {
            "needs_background": "light"
          }
        }
      ]
    },
    {
      "cell_type": "markdown",
      "metadata": {
        "id": "dSkxWXJ9ZOTa"
      },
      "source": [
        "* 워드클라우드 시각화"
      ]
    },
    {
      "cell_type": "code",
      "metadata": {
        "id": "J7XccJE8RQ-c",
        "colab": {
          "base_uri": "https://localhost:8080/",
          "height": 520
        },
        "outputId": "ba0d9e1b-4c61-4f2d-fc0a-593e17756b93"
      },
      "source": [
        "from wordcloud import WordCloud\n",
        "\n",
        "korean_font_path = '/usr/share/fonts/truetype/nanum/NanumBarunGothic.ttf'\n",
        "\n",
        "wc = WordCloud(font_path = korean_font_path, \n",
        "               background_color='white',\n",
        "               width = 800, height = 600)\n",
        "\n",
        "frequencies = dept_level2_total['집행금액']\n",
        "\n",
        "wordcloud_image = wc.generate_from_frequencies(frequencies)\n",
        "\n",
        "plt.figure(figsize=(14, 9))\n",
        "plt.axis('off')\n",
        "plt.imshow(wordcloud_image, interpolation = 'bilinear')\n",
        "plt.show()"
      ],
      "execution_count": null,
      "outputs": [
        {
          "output_type": "display_data",
          "data": {
            "image/png": "[encoded data removed]",
            "text/plain": [
              "<Figure size 1008x648 with 1 Axes>"
            ]
          },
          "metadata": {
            "needs_background": "light"
          }
        }
      ]
    },
    {
      "cell_type": "markdown",
      "metadata": {
        "id": "n-eV-dUKS_8I"
      },
      "source": [
        "> ## 5) 요일별 집행횟수\n",
        "\n",
        "* 시간정보 확인"
      ]
    },
    {
      "cell_type": "code",
      "metadata": {
        "id": "jMQfm8hJTEwH",
        "colab": {
          "base_uri": "https://localhost:8080/"
        },
        "outputId": "1559387c-80f3-4b6c-ea3c-afca2d71418e"
      },
      "source": [
        "df_expense_all['집행일시'].values"
      ],
      "execution_count": null,
      "outputs": [
        {
          "output_type": "execute_result",
          "data": {
            "text/plain": [
              "array(['2017-01-26 13:10', '2017-01-25 22:41', '2017-01-24 12:35', ...,\n",
              "       '2019-12-19 11:34', '2019-12-16 12:39', '2019-12-03 17:35'],\n",
              "      dtype=object)"
            ]
          },
          "metadata": {},
          "execution_count": 39
        }
      ]
    },
    {
      "cell_type": "markdown",
      "metadata": {
        "id": "ptkMrmOOZXfK"
      },
      "source": [
        "* pd.to_datetime( ) 변환"
      ]
    },
    {
      "cell_type": "code",
      "metadata": {
        "id": "568eU4S_L10B",
        "colab": {
          "base_uri": "https://localhost:8080/"
        },
        "outputId": "3771787b-c70f-4eca-fe65-5d760e2eb29d"
      },
      "source": [
        "expense_date_time = pd.to_datetime(df_expense_all['집행일시'])\n",
        "\n",
        "expense_date_time.values"
      ],
      "execution_count": null,
      "outputs": [
        {
          "output_type": "execute_result",
          "data": {
            "text/plain": [
              "array(['2017-01-26T13:10:00.000000000', '2017-01-25T22:41:00.000000000',\n",
              "       '2017-01-24T12:35:00.000000000', ...,\n",
              "       '2019-12-19T11:34:00.000000000', '2019-12-16T12:39:00.000000000',\n",
              "       '2019-12-03T17:35:00.000000000'], dtype='datetime64[ns]')"
            ]
          },
          "metadata": {},
          "execution_count": 40
        }
      ]
    },
    {
      "cell_type": "markdown",
      "metadata": {
        "id": "qT3uaPL-Zji3"
      },
      "source": [
        "* '집행일시_요일' 행(Column) 추가\n",
        " - dt.weekday : 날짜를 요일로 변환"
      ]
    },
    {
      "cell_type": "code",
      "metadata": {
        "id": "txPmETxQVAIS"
      },
      "source": [
        "week_day_name = ['월', '화', '수', '목', '금', '토', '일']\n",
        "\n",
        "df_expense_all['집행일시_요일'] = [week_day_name[weekday] for weekday in expense_date_time.dt.weekday]"
      ],
      "execution_count": null,
      "outputs": []
    },
    {
      "cell_type": "markdown",
      "metadata": {
        "id": "hTRbcbFmZ-AV"
      },
      "source": [
        "* 추가 정보 확인"
      ]
    },
    {
      "cell_type": "code",
      "metadata": {
        "id": "wYQVEYRKXiU-",
        "colab": {
          "base_uri": "https://localhost:8080/",
          "height": 354
        },
        "outputId": "4bd99cf5-1a4c-4560-e6db-c9311c4241ef"
      },
      "source": [
        "df_expense_all.head()"
      ],
      "execution_count": null,
      "outputs": [
        {
          "output_type": "execute_result",
          "data": {
            "text/html": [
              "\n",
              "  <div id=\"df-2afc1d8f-c4d1-4df7-8891-a957a3a10862\">\n",
              "    <div class=\"colab-df-container\">\n",
              "      <div>\n",
              "<style scoped>\n",
              "    .dataframe tbody tr th:only-of-type {\n",
              "        vertical-align: middle;\n",
              "    }\n",
              "\n",
              "    .dataframe tbody tr th {\n",
              "        vertical-align: top;\n",
              "    }\n",
              "\n",
              "    .dataframe thead th {\n",
              "        text-align: right;\n",
              "    }\n",
              "</style>\n",
              "<table border=\"1\" class=\"dataframe\">\n",
              "  <thead>\n",
              "    <tr style=\"text-align: right;\">\n",
              "      <th></th>\n",
              "      <th>제목</th>\n",
              "      <th>부서레벨1</th>\n",
              "      <th>부서레벨2</th>\n",
              "      <th>집행연도</th>\n",
              "      <th>집행월</th>\n",
              "      <th>부서명</th>\n",
              "      <th>집행일시</th>\n",
              "      <th>집행장소</th>\n",
              "      <th>집행목적</th>\n",
              "      <th>대상인원</th>\n",
              "      <th>결제방법</th>\n",
              "      <th>집행금액</th>\n",
              "      <th>집행일시_요일</th>\n",
              "    </tr>\n",
              "  </thead>\n",
              "  <tbody>\n",
              "    <tr>\n",
              "      <th>0</th>\n",
              "      <td>2017년 1월 장애인복지정책과 업무추진비 집행내역</td>\n",
              "      <td>서울시본청</td>\n",
              "      <td>복지본부</td>\n",
              "      <td>2017</td>\n",
              "      <td>1</td>\n",
              "      <td>복지본부 장애인복지정책과</td>\n",
              "      <td>2017-01-26 13:10</td>\n",
              "      <td>동해일식 (중구 무교동)</td>\n",
              "      <td>기본소득과 장애인복지 논의간담회</td>\n",
              "      <td>장애인복지정책팀장 외 2명</td>\n",
              "      <td>카드</td>\n",
              "      <td>76000</td>\n",
              "      <td>목</td>\n",
              "    </tr>\n",
              "    <tr>\n",
              "      <th>1</th>\n",
              "      <td>2017년 1월 장애인복지정책과 업무추진비 집행내역</td>\n",
              "      <td>서울시본청</td>\n",
              "      <td>복지본부</td>\n",
              "      <td>2017</td>\n",
              "      <td>1</td>\n",
              "      <td>복지본부 장애인복지정책과</td>\n",
              "      <td>2017-01-25 22:41</td>\n",
              "      <td>김앤장 (중구 무교로)</td>\n",
              "      <td>장애인단체 활동지원 논의간담회</td>\n",
              "      <td>장애인복지정책과장 외 3명</td>\n",
              "      <td>카드</td>\n",
              "      <td>102000</td>\n",
              "      <td>수</td>\n",
              "    </tr>\n",
              "    <tr>\n",
              "      <th>2</th>\n",
              "      <td>2017년 1월 장애인복지정책과 업무추진비 집행내역</td>\n",
              "      <td>서울시본청</td>\n",
              "      <td>복지본부</td>\n",
              "      <td>2017</td>\n",
              "      <td>1</td>\n",
              "      <td>복지본부 장애인복지정책과</td>\n",
              "      <td>2017-01-24 12:35</td>\n",
              "      <td>왕왕생고기 (중구 을지로)</td>\n",
              "      <td>장애인 기본돌봄 복지시책 논의간담회</td>\n",
              "      <td>장애인복지정책팀장외7명</td>\n",
              "      <td>카드</td>\n",
              "      <td>80000</td>\n",
              "      <td>화</td>\n",
              "    </tr>\n",
              "    <tr>\n",
              "      <th>3</th>\n",
              "      <td>2017년 1월 장애인복지정책과 업무추진비 집행내역</td>\n",
              "      <td>서울시본청</td>\n",
              "      <td>복지본부</td>\n",
              "      <td>2017</td>\n",
              "      <td>1</td>\n",
              "      <td>복지본부 장애인복지정책과</td>\n",
              "      <td>2017-01-24 12:23</td>\n",
              "      <td>서울불고기 (중구 남대문로)</td>\n",
              "      <td>서울시일자리통합지원센터 운영개선 논의간담회</td>\n",
              "      <td>장애인복지정책과장외5명</td>\n",
              "      <td>카드</td>\n",
              "      <td>112000</td>\n",
              "      <td>화</td>\n",
              "    </tr>\n",
              "    <tr>\n",
              "      <th>4</th>\n",
              "      <td>2017년 1월 장애인복지정책과 업무추진비 집행내역</td>\n",
              "      <td>서울시본청</td>\n",
              "      <td>복지본부</td>\n",
              "      <td>2017</td>\n",
              "      <td>1</td>\n",
              "      <td>복지본부 장애인복지정책과</td>\n",
              "      <td>2017-01-23 15:10</td>\n",
              "      <td>서울시청신매점</td>\n",
              "      <td>부서운영에 필요한 음료수 구매</td>\n",
              "      <td>장애인복지정책과직원</td>\n",
              "      <td>카드</td>\n",
              "      <td>16000</td>\n",
              "      <td>월</td>\n",
              "    </tr>\n",
              "  </tbody>\n",
              "</table>\n",
              "</div>\n",
              "      <button class=\"colab-df-convert\" onclick=\"convertToInteractive('df-2afc1d8f-c4d1-4df7-8891-a957a3a10862')\"\n",
              "              title=\"Convert this dataframe to an interactive table.\"\n",
              "              style=\"display:none;\">\n",
              "        \n",
              "  <svg xmlns=\"http://www.w3.org/2000/svg\" height=\"24px\"viewBox=\"0 0 24 24\"\n",
              "       width=\"24px\">\n",
              "    <path d=\"M0 0h24v24H0V0z\" fill=\"none\"/>\n",
              "    <path d=\"M18.56 5.44l.94 2.06.94-2.06 2.06-.94-2.06-.94-.94-2.06-.94 2.06-2.06.94zm-11 1L8.5 8.5l.94-2.06 2.06-.94-2.06-.94L8.5 2.5l-.94 2.06-2.06.94zm10 10l.94 2.06.94-2.06 2.06-.94-2.06-.94-.94-2.06-.94 2.06-2.06.94z\"/><path d=\"M17.41 7.96l-1.37-1.37c-.4-.4-.92-.59-1.43-.59-.52 0-1.04.2-1.43.59L10.3 9.45l-7.72 7.72c-.78.78-.78 2.05 0 2.83L4 21.41c.39.39.9.59 1.41.59.51 0 1.02-.2 1.41-.59l7.78-7.78 2.81-2.81c.8-.78.8-2.07 0-2.86zM5.41 20L4 18.59l7.72-7.72 1.47 1.35L5.41 20z\"/>\n",
              "  </svg>\n",
              "      </button>\n",
              "      \n",
              "  <style>\n",
              "    .colab-df-container {\n",
              "      display:flex;\n",
              "      flex-wrap:wrap;\n",
              "      gap: 12px;\n",
              "    }\n",
              "\n",
              "    .colab-df-convert {\n",
              "      background-color: #E8F0FE;\n",
              "      border: none;\n",
              "      border-radius: 50%;\n",
              "      cursor: pointer;\n",
              "      display: none;\n",
              "      fill: #1967D2;\n",
              "      height: 32px;\n",
              "      padding: 0 0 0 0;\n",
              "      width: 32px;\n",
              "    }\n",
              "\n",
              "    .colab-df-convert:hover {\n",
              "      background-color: #E2EBFA;\n",
              "      box-shadow: 0px 1px 2px rgba(60, 64, 67, 0.3), 0px 1px 3px 1px rgba(60, 64, 67, 0.15);\n",
              "      fill: #174EA6;\n",
              "    }\n",
              "\n",
              "    [theme=dark] .colab-df-convert {\n",
              "      background-color: #3B4455;\n",
              "      fill: #D2E3FC;\n",
              "    }\n",
              "\n",
              "    [theme=dark] .colab-df-convert:hover {\n",
              "      background-color: #434B5C;\n",
              "      box-shadow: 0px 1px 3px 1px rgba(0, 0, 0, 0.15);\n",
              "      filter: drop-shadow(0px 1px 2px rgba(0, 0, 0, 0.3));\n",
              "      fill: #FFFFFF;\n",
              "    }\n",
              "  </style>\n",
              "\n",
              "      <script>\n",
              "        const buttonEl =\n",
              "          document.querySelector('#df-2afc1d8f-c4d1-4df7-8891-a957a3a10862 button.colab-df-convert');\n",
              "        buttonEl.style.display =\n",
              "          google.colab.kernel.accessAllowed ? 'block' : 'none';\n",
              "\n",
              "        async function convertToInteractive(key) {\n",
              "          const element = document.querySelector('#df-2afc1d8f-c4d1-4df7-8891-a957a3a10862');\n",
              "          const dataTable =\n",
              "            await google.colab.kernel.invokeFunction('convertToInteractive',\n",
              "                                                     [key], {});\n",
              "          if (!dataTable) return;\n",
              "\n",
              "          const docLinkHtml = 'Like what you see? Visit the ' +\n",
              "            '<a target=\"_blank\" href=https://colab.research.google.com/notebooks/data_table.ipynb>data table notebook</a>'\n",
              "            + ' to learn more about interactive tables.';\n",
              "          element.innerHTML = '';\n",
              "          dataTable['output_type'] = 'display_data';\n",
              "          await google.colab.output.renderOutput(dataTable, element);\n",
              "          const docLink = document.createElement('div');\n",
              "          docLink.innerHTML = docLinkHtml;\n",
              "          element.appendChild(docLink);\n",
              "        }\n",
              "      </script>\n",
              "    </div>\n",
              "  </div>\n",
              "  "
            ],
            "text/plain": [
              "                             제목  부서레벨1 부서레벨2  ...  결제방법    집행금액 집행일시_요일\n",
              "0  2017년 1월 장애인복지정책과 업무추진비 집행내역  서울시본청  복지본부  ...    카드   76000       목\n",
              "1  2017년 1월 장애인복지정책과 업무추진비 집행내역  서울시본청  복지본부  ...    카드  102000       수\n",
              "2  2017년 1월 장애인복지정책과 업무추진비 집행내역  서울시본청  복지본부  ...    카드   80000       화\n",
              "3  2017년 1월 장애인복지정책과 업무추진비 집행내역  서울시본청  복지본부  ...    카드  112000       화\n",
              "4  2017년 1월 장애인복지정책과 업무추진비 집행내역  서울시본청  복지본부  ...    카드   16000       월\n",
              "\n",
              "[5 rows x 13 columns]"
            ]
          },
          "metadata": {},
          "execution_count": 42
        }
      ]
    },
    {
      "cell_type": "markdown",
      "metadata": {
        "id": "q-oYl5MFaCud"
      },
      "source": [
        "* 요일별 집행횟수 확인"
      ]
    },
    {
      "cell_type": "code",
      "metadata": {
        "id": "b5KfpZ8KWGru",
        "colab": {
          "base_uri": "https://localhost:8080/"
        },
        "outputId": "7d552532-9efa-44e3-9860-f5745122136d"
      },
      "source": [
        "expense_weekday = df_expense_all['집행일시_요일'].value_counts()\n",
        "\n",
        "expense_weekday"
      ],
      "execution_count": null,
      "outputs": [
        {
          "output_type": "execute_result",
          "data": {
            "text/plain": [
              "목    45683\n",
              "화    43812\n",
              "수    42343\n",
              "금    41381\n",
              "월    39498\n",
              "토     2238\n",
              "일     1602\n",
              "Name: 집행일시_요일, dtype: int64"
            ]
          },
          "metadata": {},
          "execution_count": 43
        }
      ]
    },
    {
      "cell_type": "markdown",
      "metadata": {
        "id": "RvNSAU-0aO_Y"
      },
      "source": [
        "* 요일순 정렬 : .reindex( )"
      ]
    },
    {
      "cell_type": "code",
      "metadata": {
        "id": "FHHooIM6V91Q",
        "colab": {
          "base_uri": "https://localhost:8080/"
        },
        "outputId": "e716d3d0-938e-40aa-c1a3-1551990dd6bc"
      },
      "source": [
        "expense_weekday = expense_weekday.reindex(index = week_day_name)\n",
        "\n",
        "expense_weekday"
      ],
      "execution_count": null,
      "outputs": [
        {
          "output_type": "execute_result",
          "data": {
            "text/plain": [
              "월    39498\n",
              "화    43812\n",
              "수    42343\n",
              "목    45683\n",
              "금    41381\n",
              "토     2238\n",
              "일     1602\n",
              "Name: 집행일시_요일, dtype: int64"
            ]
          },
          "metadata": {},
          "execution_count": 44
        }
      ]
    },
    {
      "cell_type": "markdown",
      "metadata": {
        "id": "94D3HoiIaYZG"
      },
      "source": [
        "* 막대그래프 시각화"
      ]
    },
    {
      "cell_type": "code",
      "metadata": {
        "id": "Isiz74dfVxQQ",
        "colab": {
          "base_uri": "https://localhost:8080/",
          "height": 457
        },
        "outputId": "1a0b226a-7e25-46f5-fa06-d622d8b6dde6"
      },
      "source": [
        "expense_weekday.plot.bar(rot = 0, figsize = (10, 7))\n",
        "plt.title('요일별 업무추진비 집행 횟수')\n",
        "plt.xlabel('요일')\n",
        "plt.ylabel('집행 횟수')\n",
        "plt.show()"
      ],
      "execution_count": null,
      "outputs": [
        {
          "output_type": "display_data",
          "data": {
            "image/png": "[encoded data removed]",
            "text/plain": [
              "<Figure size 720x504 with 1 Axes>"
            ]
          },
          "metadata": {
            "needs_background": "light"
          }
        }
      ]
    },
    {
      "cell_type": "markdown",
      "metadata": {
        "id": "VcPyVEByVrWh"
      },
      "source": [
        "> ## 6) 시간별 집행횟수\n",
        "\n",
        "* '집행일시_시간' 행(Column) 추가\n",
        " - dt.hour : 날짜를 시간으로 변환"
      ]
    },
    {
      "cell_type": "code",
      "metadata": {
        "id": "4UWj-ayeVR89"
      },
      "source": [
        "df_expense_all['집행일시_시간'] = [hour for hour in expense_date_time.dt.hour]"
      ],
      "execution_count": null,
      "outputs": []
    },
    {
      "cell_type": "markdown",
      "metadata": {
        "id": "sx2xGHqQatk_"
      },
      "source": [
        "* 추가 정보 확인"
      ]
    },
    {
      "cell_type": "code",
      "metadata": {
        "id": "95jXqUW7VY7b",
        "colab": {
          "base_uri": "https://localhost:8080/",
          "height": 354
        },
        "outputId": "7d216951-ff32-4239-a6c3-59b6d9aa9366"
      },
      "source": [
        "df_expense_all.head()"
      ],
      "execution_count": null,
      "outputs": [
        {
          "output_type": "execute_result",
          "data": {
            "text/html": [
              "\n",
              "  <div id=\"df-ec1a6f5d-ddd0-47af-8112-a6f965bbb821\">\n",
              "    <div class=\"colab-df-container\">\n",
              "      <div>\n",
              "<style scoped>\n",
              "    .dataframe tbody tr th:only-of-type {\n",
              "        vertical-align: middle;\n",
              "    }\n",
              "\n",
              "    .dataframe tbody tr th {\n",
              "        vertical-align: top;\n",
              "    }\n",
              "\n",
              "    .dataframe thead th {\n",
              "        text-align: right;\n",
              "    }\n",
              "</style>\n",
              "<table border=\"1\" class=\"dataframe\">\n",
              "  <thead>\n",
              "    <tr style=\"text-align: right;\">\n",
              "      <th></th>\n",
              "      <th>제목</th>\n",
              "      <th>부서레벨1</th>\n",
              "      <th>부서레벨2</th>\n",
              "      <th>집행연도</th>\n",
              "      <th>집행월</th>\n",
              "      <th>부서명</th>\n",
              "      <th>집행일시</th>\n",
              "      <th>집행장소</th>\n",
              "      <th>집행목적</th>\n",
              "      <th>대상인원</th>\n",
              "      <th>결제방법</th>\n",
              "      <th>집행금액</th>\n",
              "      <th>집행일시_요일</th>\n",
              "      <th>집행일시_시간</th>\n",
              "    </tr>\n",
              "  </thead>\n",
              "  <tbody>\n",
              "    <tr>\n",
              "      <th>0</th>\n",
              "      <td>2017년 1월 장애인복지정책과 업무추진비 집행내역</td>\n",
              "      <td>서울시본청</td>\n",
              "      <td>복지본부</td>\n",
              "      <td>2017</td>\n",
              "      <td>1</td>\n",
              "      <td>복지본부 장애인복지정책과</td>\n",
              "      <td>2017-01-26 13:10</td>\n",
              "      <td>동해일식 (중구 무교동)</td>\n",
              "      <td>기본소득과 장애인복지 논의간담회</td>\n",
              "      <td>장애인복지정책팀장 외 2명</td>\n",
              "      <td>카드</td>\n",
              "      <td>76000</td>\n",
              "      <td>목</td>\n",
              "      <td>13</td>\n",
              "    </tr>\n",
              "    <tr>\n",
              "      <th>1</th>\n",
              "      <td>2017년 1월 장애인복지정책과 업무추진비 집행내역</td>\n",
              "      <td>서울시본청</td>\n",
              "      <td>복지본부</td>\n",
              "      <td>2017</td>\n",
              "      <td>1</td>\n",
              "      <td>복지본부 장애인복지정책과</td>\n",
              "      <td>2017-01-25 22:41</td>\n",
              "      <td>김앤장 (중구 무교로)</td>\n",
              "      <td>장애인단체 활동지원 논의간담회</td>\n",
              "      <td>장애인복지정책과장 외 3명</td>\n",
              "      <td>카드</td>\n",
              "      <td>102000</td>\n",
              "      <td>수</td>\n",
              "      <td>22</td>\n",
              "    </tr>\n",
              "    <tr>\n",
              "      <th>2</th>\n",
              "      <td>2017년 1월 장애인복지정책과 업무추진비 집행내역</td>\n",
              "      <td>서울시본청</td>\n",
              "      <td>복지본부</td>\n",
              "      <td>2017</td>\n",
              "      <td>1</td>\n",
              "      <td>복지본부 장애인복지정책과</td>\n",
              "      <td>2017-01-24 12:35</td>\n",
              "      <td>왕왕생고기 (중구 을지로)</td>\n",
              "      <td>장애인 기본돌봄 복지시책 논의간담회</td>\n",
              "      <td>장애인복지정책팀장외7명</td>\n",
              "      <td>카드</td>\n",
              "      <td>80000</td>\n",
              "      <td>화</td>\n",
              "      <td>12</td>\n",
              "    </tr>\n",
              "    <tr>\n",
              "      <th>3</th>\n",
              "      <td>2017년 1월 장애인복지정책과 업무추진비 집행내역</td>\n",
              "      <td>서울시본청</td>\n",
              "      <td>복지본부</td>\n",
              "      <td>2017</td>\n",
              "      <td>1</td>\n",
              "      <td>복지본부 장애인복지정책과</td>\n",
              "      <td>2017-01-24 12:23</td>\n",
              "      <td>서울불고기 (중구 남대문로)</td>\n",
              "      <td>서울시일자리통합지원센터 운영개선 논의간담회</td>\n",
              "      <td>장애인복지정책과장외5명</td>\n",
              "      <td>카드</td>\n",
              "      <td>112000</td>\n",
              "      <td>화</td>\n",
              "      <td>12</td>\n",
              "    </tr>\n",
              "    <tr>\n",
              "      <th>4</th>\n",
              "      <td>2017년 1월 장애인복지정책과 업무추진비 집행내역</td>\n",
              "      <td>서울시본청</td>\n",
              "      <td>복지본부</td>\n",
              "      <td>2017</td>\n",
              "      <td>1</td>\n",
              "      <td>복지본부 장애인복지정책과</td>\n",
              "      <td>2017-01-23 15:10</td>\n",
              "      <td>서울시청신매점</td>\n",
              "      <td>부서운영에 필요한 음료수 구매</td>\n",
              "      <td>장애인복지정책과직원</td>\n",
              "      <td>카드</td>\n",
              "      <td>16000</td>\n",
              "      <td>월</td>\n",
              "      <td>15</td>\n",
              "    </tr>\n",
              "  </tbody>\n",
              "</table>\n",
              "</div>\n",
              "      <button class=\"colab-df-convert\" onclick=\"convertToInteractive('df-ec1a6f5d-ddd0-47af-8112-a6f965bbb821')\"\n",
              "              title=\"Convert this dataframe to an interactive table.\"\n",
              "              style=\"display:none;\">\n",
              "        \n",
              "  <svg xmlns=\"http://www.w3.org/2000/svg\" height=\"24px\"viewBox=\"0 0 24 24\"\n",
              "       width=\"24px\">\n",
              "    <path d=\"M0 0h24v24H0V0z\" fill=\"none\"/>\n",
              "    <path d=\"M18.56 5.44l.94 2.06.94-2.06 2.06-.94-2.06-.94-.94-2.06-.94 2.06-2.06.94zm-11 1L8.5 8.5l.94-2.06 2.06-.94-2.06-.94L8.5 2.5l-.94 2.06-2.06.94zm10 10l.94 2.06.94-2.06 2.06-.94-2.06-.94-.94-2.06-.94 2.06-2.06.94z\"/><path d=\"M17.41 7.96l-1.37-1.37c-.4-.4-.92-.59-1.43-.59-.52 0-1.04.2-1.43.59L10.3 9.45l-7.72 7.72c-.78.78-.78 2.05 0 2.83L4 21.41c.39.39.9.59 1.41.59.51 0 1.02-.2 1.41-.59l7.78-7.78 2.81-2.81c.8-.78.8-2.07 0-2.86zM5.41 20L4 18.59l7.72-7.72 1.47 1.35L5.41 20z\"/>\n",
              "  </svg>\n",
              "      </button>\n",
              "      \n",
              "  <style>\n",
              "    .colab-df-container {\n",
              "      display:flex;\n",
              "      flex-wrap:wrap;\n",
              "      gap: 12px;\n",
              "    }\n",
              "\n",
              "    .colab-df-convert {\n",
              "      background-color: #E8F0FE;\n",
              "      border: none;\n",
              "      border-radius: 50%;\n",
              "      cursor: pointer;\n",
              "      display: none;\n",
              "      fill: #1967D2;\n",
              "      height: 32px;\n",
              "      padding: 0 0 0 0;\n",
              "      width: 32px;\n",
              "    }\n",
              "\n",
              "    .colab-df-convert:hover {\n",
              "      background-color: #E2EBFA;\n",
              "      box-shadow: 0px 1px 2px rgba(60, 64, 67, 0.3), 0px 1px 3px 1px rgba(60, 64, 67, 0.15);\n",
              "      fill: #174EA6;\n",
              "    }\n",
              "\n",
              "    [theme=dark] .colab-df-convert {\n",
              "      background-color: #3B4455;\n",
              "      fill: #D2E3FC;\n",
              "    }\n",
              "\n",
              "    [theme=dark] .colab-df-convert:hover {\n",
              "      background-color: #434B5C;\n",
              "      box-shadow: 0px 1px 3px 1px rgba(0, 0, 0, 0.15);\n",
              "      filter: drop-shadow(0px 1px 2px rgba(0, 0, 0, 0.3));\n",
              "      fill: #FFFFFF;\n",
              "    }\n",
              "  </style>\n",
              "\n",
              "      <script>\n",
              "        const buttonEl =\n",
              "          document.querySelector('#df-ec1a6f5d-ddd0-47af-8112-a6f965bbb821 button.colab-df-convert');\n",
              "        buttonEl.style.display =\n",
              "          google.colab.kernel.accessAllowed ? 'block' : 'none';\n",
              "\n",
              "        async function convertToInteractive(key) {\n",
              "          const element = document.querySelector('#df-ec1a6f5d-ddd0-47af-8112-a6f965bbb821');\n",
              "          const dataTable =\n",
              "            await google.colab.kernel.invokeFunction('convertToInteractive',\n",
              "                                                     [key], {});\n",
              "          if (!dataTable) return;\n",
              "\n",
              "          const docLinkHtml = 'Like what you see? Visit the ' +\n",
              "            '<a target=\"_blank\" href=https://colab.research.google.com/notebooks/data_table.ipynb>data table notebook</a>'\n",
              "            + ' to learn more about interactive tables.';\n",
              "          element.innerHTML = '';\n",
              "          dataTable['output_type'] = 'display_data';\n",
              "          await google.colab.output.renderOutput(dataTable, element);\n",
              "          const docLink = document.createElement('div');\n",
              "          docLink.innerHTML = docLinkHtml;\n",
              "          element.appendChild(docLink);\n",
              "        }\n",
              "      </script>\n",
              "    </div>\n",
              "  </div>\n",
              "  "
            ],
            "text/plain": [
              "                             제목  부서레벨1 부서레벨2  ...    집행금액  집행일시_요일 집행일시_시간\n",
              "0  2017년 1월 장애인복지정책과 업무추진비 집행내역  서울시본청  복지본부  ...   76000        목      13\n",
              "1  2017년 1월 장애인복지정책과 업무추진비 집행내역  서울시본청  복지본부  ...  102000        수      22\n",
              "2  2017년 1월 장애인복지정책과 업무추진비 집행내역  서울시본청  복지본부  ...   80000        화      12\n",
              "3  2017년 1월 장애인복지정책과 업무추진비 집행내역  서울시본청  복지본부  ...  112000        화      12\n",
              "4  2017년 1월 장애인복지정책과 업무추진비 집행내역  서울시본청  복지본부  ...   16000        월      15\n",
              "\n",
              "[5 rows x 14 columns]"
            ]
          },
          "metadata": {},
          "execution_count": 47
        }
      ]
    },
    {
      "cell_type": "markdown",
      "metadata": {
        "id": "2Eal3vaJa0O7"
      },
      "source": [
        "* 시간별 집행횟수 확인"
      ]
    },
    {
      "cell_type": "code",
      "metadata": {
        "id": "vpi8tSpyWXaY",
        "colab": {
          "base_uri": "https://localhost:8080/"
        },
        "outputId": "53f596a4-8ffc-4e70-911e-381b4bce4ded"
      },
      "source": [
        "expense_hour_num = df_expense_all['집행일시_시간'].value_counts()\n",
        "\n",
        "expense_hour_num"
      ],
      "execution_count": null,
      "outputs": [
        {
          "output_type": "execute_result",
          "data": {
            "text/plain": [
              "12    87518\n",
              "20    23013\n",
              "13    20990\n",
              "19    16766\n",
              "21    12210\n",
              "11     8356\n",
              "14     8311\n",
              "15     7168\n",
              "10     5824\n",
              "18     5783\n",
              "16     5169\n",
              "0      4919\n",
              "9      3486\n",
              "17     2889\n",
              "22     2563\n",
              "8       875\n",
              "7       412\n",
              "23      128\n",
              "1        44\n",
              "6        42\n",
              "3        27\n",
              "4        26\n",
              "5        19\n",
              "2        19\n",
              "Name: 집행일시_시간, dtype: int64"
            ]
          },
          "metadata": {},
          "execution_count": 48
        }
      ]
    },
    {
      "cell_type": "markdown",
      "metadata": {
        "id": "xjZrZwmsa9eF"
      },
      "source": [
        "* 시간순 정렬 : .reindex( )\n",
        " - 8시 기준"
      ]
    },
    {
      "cell_type": "code",
      "metadata": {
        "id": "Z-V3nzIlWdEr",
        "colab": {
          "base_uri": "https://localhost:8080/"
        },
        "outputId": "00061706-9b0b-4bc9-af0b-eaf985f8c0f4"
      },
      "source": [
        "work_hour = [ (k+8)%24 for k in range(24)]\n",
        "expense_hour_num = expense_hour_num.reindex(index = work_hour)\n",
        "\n",
        "expense_hour_num"
      ],
      "execution_count": null,
      "outputs": [
        {
          "output_type": "execute_result",
          "data": {
            "text/plain": [
              "8       875\n",
              "9      3486\n",
              "10     5824\n",
              "11     8356\n",
              "12    87518\n",
              "13    20990\n",
              "14     8311\n",
              "15     7168\n",
              "16     5169\n",
              "17     2889\n",
              "18     5783\n",
              "19    16766\n",
              "20    23013\n",
              "21    12210\n",
              "22     2563\n",
              "23      128\n",
              "0      4919\n",
              "1        44\n",
              "2        19\n",
              "3        27\n",
              "4        26\n",
              "5        19\n",
              "6        42\n",
              "7       412\n",
              "Name: 집행일시_시간, dtype: int64"
            ]
          },
          "metadata": {},
          "execution_count": 49
        }
      ]
    },
    {
      "cell_type": "markdown",
      "metadata": {
        "id": "iw4ds6jTbEtj"
      },
      "source": [
        "* 막대그래프 시각화"
      ]
    },
    {
      "cell_type": "code",
      "metadata": {
        "id": "-ZxObZG3Wi0x",
        "colab": {
          "base_uri": "https://localhost:8080/",
          "height": 456
        },
        "outputId": "a365d737-757b-466d-bc4c-2021678ffc4c"
      },
      "source": [
        "expense_hour_num.plot.bar(rot = 0, figsize = (10, 7))\n",
        "plt.title('시간별 업무추진비 집행 횟수')\n",
        "plt.xlabel('집행 시간')\n",
        "plt.ylabel('집행 횟수')\n",
        "plt.show()"
      ],
      "execution_count": null,
      "outputs": [
        {
          "output_type": "display_data",
          "data": {
            "image/png": "[encoded data removed]",
            "text/plain": [
              "<Figure size 720x504 with 1 Axes>"
            ]
          },
          "metadata": {
            "needs_background": "light"
          }
        }
      ]
    },
    {
      "cell_type": "markdown",
      "metadata": {
        "id": "xhKEvMO4XS2s"
      },
      "source": [
        "> ## 7) 시간별 집행금액\n",
        "\n",
        "* 시간별 .pivot_table( )"
      ]
    },
    {
      "cell_type": "code",
      "metadata": {
        "id": "QYM9l2G6W9U8",
        "colab": {
          "base_uri": "https://localhost:8080/",
          "height": 238
        },
        "outputId": "316cadb3-393f-4f5d-908a-2ba4963aca2f"
      },
      "source": [
        "expense_hour_total = pd.pivot_table(df_expense_all, \n",
        "                                    index = ['집행일시_시간'],\n",
        "                                    values = ['집행금액'], \n",
        "                                    aggfunc = sum)\n",
        "\n",
        "expense_hour_total.head()"
      ],
      "execution_count": null,
      "outputs": [
        {
          "output_type": "execute_result",
          "data": {
            "text/html": [
              "\n",
              "  <div id=\"df-231bea2b-d0e0-419e-9c8a-55824888b9d8\">\n",
              "    <div class=\"colab-df-container\">\n",
              "      <div>\n",
              "<style scoped>\n",
              "    .dataframe tbody tr th:only-of-type {\n",
              "        vertical-align: middle;\n",
              "    }\n",
              "\n",
              "    .dataframe tbody tr th {\n",
              "        vertical-align: top;\n",
              "    }\n",
              "\n",
              "    .dataframe thead th {\n",
              "        text-align: right;\n",
              "    }\n",
              "</style>\n",
              "<table border=\"1\" class=\"dataframe\">\n",
              "  <thead>\n",
              "    <tr style=\"text-align: right;\">\n",
              "      <th></th>\n",
              "      <th>집행금액</th>\n",
              "    </tr>\n",
              "    <tr>\n",
              "      <th>집행일시_시간</th>\n",
              "      <th></th>\n",
              "    </tr>\n",
              "  </thead>\n",
              "  <tbody>\n",
              "    <tr>\n",
              "      <th>0</th>\n",
              "      <td>842523116</td>\n",
              "    </tr>\n",
              "    <tr>\n",
              "      <th>1</th>\n",
              "      <td>7024161</td>\n",
              "    </tr>\n",
              "    <tr>\n",
              "      <th>2</th>\n",
              "      <td>2265190</td>\n",
              "    </tr>\n",
              "    <tr>\n",
              "      <th>3</th>\n",
              "      <td>7215762</td>\n",
              "    </tr>\n",
              "    <tr>\n",
              "      <th>4</th>\n",
              "      <td>5818431</td>\n",
              "    </tr>\n",
              "  </tbody>\n",
              "</table>\n",
              "</div>\n",
              "      <button class=\"colab-df-convert\" onclick=\"convertToInteractive('df-231bea2b-d0e0-419e-9c8a-55824888b9d8')\"\n",
              "              title=\"Convert this dataframe to an interactive table.\"\n",
              "              style=\"display:none;\">\n",
              "        \n",
              "  <svg xmlns=\"http://www.w3.org/2000/svg\" height=\"24px\"viewBox=\"0 0 24 24\"\n",
              "       width=\"24px\">\n",
              "    <path d=\"M0 0h24v24H0V0z\" fill=\"none\"/>\n",
              "    <path d=\"M18.56 5.44l.94 2.06.94-2.06 2.06-.94-2.06-.94-.94-2.06-.94 2.06-2.06.94zm-11 1L8.5 8.5l.94-2.06 2.06-.94-2.06-.94L8.5 2.5l-.94 2.06-2.06.94zm10 10l.94 2.06.94-2.06 2.06-.94-2.06-.94-.94-2.06-.94 2.06-2.06.94z\"/><path d=\"M17.41 7.96l-1.37-1.37c-.4-.4-.92-.59-1.43-.59-.52 0-1.04.2-1.43.59L10.3 9.45l-7.72 7.72c-.78.78-.78 2.05 0 2.83L4 21.41c.39.39.9.59 1.41.59.51 0 1.02-.2 1.41-.59l7.78-7.78 2.81-2.81c.8-.78.8-2.07 0-2.86zM5.41 20L4 18.59l7.72-7.72 1.47 1.35L5.41 20z\"/>\n",
              "  </svg>\n",
              "      </button>\n",
              "      \n",
              "  <style>\n",
              "    .colab-df-container {\n",
              "      display:flex;\n",
              "      flex-wrap:wrap;\n",
              "      gap: 12px;\n",
              "    }\n",
              "\n",
              "    .colab-df-convert {\n",
              "      background-color: #E8F0FE;\n",
              "      border: none;\n",
              "      border-radius: 50%;\n",
              "      cursor: pointer;\n",
              "      display: none;\n",
              "      fill: #1967D2;\n",
              "      height: 32px;\n",
              "      padding: 0 0 0 0;\n",
              "      width: 32px;\n",
              "    }\n",
              "\n",
              "    .colab-df-convert:hover {\n",
              "      background-color: #E2EBFA;\n",
              "      box-shadow: 0px 1px 2px rgba(60, 64, 67, 0.3), 0px 1px 3px 1px rgba(60, 64, 67, 0.15);\n",
              "      fill: #174EA6;\n",
              "    }\n",
              "\n",
              "    [theme=dark] .colab-df-convert {\n",
              "      background-color: #3B4455;\n",
              "      fill: #D2E3FC;\n",
              "    }\n",
              "\n",
              "    [theme=dark] .colab-df-convert:hover {\n",
              "      background-color: #434B5C;\n",
              "      box-shadow: 0px 1px 3px 1px rgba(0, 0, 0, 0.15);\n",
              "      filter: drop-shadow(0px 1px 2px rgba(0, 0, 0, 0.3));\n",
              "      fill: #FFFFFF;\n",
              "    }\n",
              "  </style>\n",
              "\n",
              "      <script>\n",
              "        const buttonEl =\n",
              "          document.querySelector('#df-231bea2b-d0e0-419e-9c8a-55824888b9d8 button.colab-df-convert');\n",
              "        buttonEl.style.display =\n",
              "          google.colab.kernel.accessAllowed ? 'block' : 'none';\n",
              "\n",
              "        async function convertToInteractive(key) {\n",
              "          const element = document.querySelector('#df-231bea2b-d0e0-419e-9c8a-55824888b9d8');\n",
              "          const dataTable =\n",
              "            await google.colab.kernel.invokeFunction('convertToInteractive',\n",
              "                                                     [key], {});\n",
              "          if (!dataTable) return;\n",
              "\n",
              "          const docLinkHtml = 'Like what you see? Visit the ' +\n",
              "            '<a target=\"_blank\" href=https://colab.research.google.com/notebooks/data_table.ipynb>data table notebook</a>'\n",
              "            + ' to learn more about interactive tables.';\n",
              "          element.innerHTML = '';\n",
              "          dataTable['output_type'] = 'display_data';\n",
              "          await google.colab.output.renderOutput(dataTable, element);\n",
              "          const docLink = document.createElement('div');\n",
              "          docLink.innerHTML = docLinkHtml;\n",
              "          element.appendChild(docLink);\n",
              "        }\n",
              "      </script>\n",
              "    </div>\n",
              "  </div>\n",
              "  "
            ],
            "text/plain": [
              "              집행금액\n",
              "집행일시_시간           \n",
              "0        842523116\n",
              "1          7024161\n",
              "2          2265190\n",
              "3          7215762\n",
              "4          5818431"
            ]
          },
          "metadata": {},
          "execution_count": 51
        }
      ]
    },
    {
      "cell_type": "markdown",
      "metadata": {
        "id": "FE5jng3mbZdH"
      },
      "source": [
        "* 막대그래프 시각화"
      ]
    },
    {
      "cell_type": "code",
      "metadata": {
        "id": "S6lCUvvlXB3d",
        "colab": {
          "base_uri": "https://localhost:8080/",
          "height": 456
        },
        "outputId": "e10b55ad-4d0f-4aa0-aee5-77ed869b8451"
      },
      "source": [
        "expense_hour_total = expense_hour_total.reindex(index = work_hour)\n",
        "\n",
        "(expense_hour_total/100000000).plot.bar(rot = 0, figsize = (10, 7))\n",
        "plt.ylabel('집행금액(억원)')\n",
        "plt.title('시간별대 업무추진비 집행금액')\n",
        "plt.show()"
      ],
      "execution_count": null,
      "outputs": [
        {
          "output_type": "display_data",
          "data": {
            "image/png": "[encoded data removed]",
            "text/plain": [
              "<Figure size 720x504 with 1 Axes>"
            ]
          },
          "metadata": {
            "needs_background": "light"
          }
        }
      ]
    },
    {
      "cell_type": "markdown",
      "metadata": {
        "id": "f80fdt-H0Cai"
      },
      "source": [
        "# \n",
        "# \n",
        "# \n",
        "# The End\n",
        "# \n",
        "# \n",
        "# "
      ]
    }
  ]
}